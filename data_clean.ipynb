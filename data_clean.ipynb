{
 "cells": [
  {
   "cell_type": "code",
   "execution_count": 1,
   "id": "440b2926-4090-4c4b-9189-4243da05497e",
   "metadata": {},
   "outputs": [],
   "source": [
    "import pandas as pd\n",
    "import numpy as np\n",
    "import seaborn as sns"
   ]
  },
  {
   "cell_type": "code",
   "execution_count": 2,
   "id": "ea6dcbb2-4530-4dff-add9-f54bf50c2117",
   "metadata": {},
   "outputs": [],
   "source": [
    "    external_purchase =pd.read_csv('data/external_purchase.csv')\n",
    "    material=pd.read_csv('data/material.csv')\n",
    "    plant=pd.read_csv('data/plant.csv')\n",
    "    supplier=pd.read_csv('data/supplier.csv')"
   ]
  },
  {
   "cell_type": "code",
   "execution_count": 3,
   "id": "f6ba3cf8-7a82-4a8e-baa4-9f48808a9717",
   "metadata": {},
   "outputs": [],
   "source": [
    "#1 understanding the data and cleaning the data"
   ]
  },
  {
   "cell_type": "code",
   "execution_count": 4,
   "id": "1bd065ca-749a-4c7e-b02a-25badba93147",
   "metadata": {},
   "outputs": [
    {
     "data": {
      "text/html": [
       "<div>\n",
       "<style scoped>\n",
       "    .dataframe tbody tr th:only-of-type {\n",
       "        vertical-align: middle;\n",
       "    }\n",
       "\n",
       "    .dataframe tbody tr th {\n",
       "        vertical-align: top;\n",
       "    }\n",
       "\n",
       "    .dataframe thead th {\n",
       "        text-align: right;\n",
       "    }\n",
       "</style>\n",
       "<table border=\"1\" class=\"dataframe\">\n",
       "  <thead>\n",
       "    <tr style=\"text-align: right;\">\n",
       "      <th></th>\n",
       "      <th>materialId</th>\n",
       "      <th>plantId</th>\n",
       "      <th>supplierId</th>\n",
       "      <th>unitOfMeasure</th>\n",
       "      <th>quantityInUnitOfMeasure</th>\n",
       "    </tr>\n",
       "  </thead>\n",
       "  <tbody>\n",
       "    <tr>\n",
       "      <th>0</th>\n",
       "      <td>10001</td>\n",
       "      <td>ABC</td>\n",
       "      <td>40001.0</td>\n",
       "      <td>KG</td>\n",
       "      <td>11125</td>\n",
       "    </tr>\n",
       "    <tr>\n",
       "      <th>1</th>\n",
       "      <td>10001</td>\n",
       "      <td>ABC</td>\n",
       "      <td>40001.0</td>\n",
       "      <td>KG</td>\n",
       "      <td>18808</td>\n",
       "    </tr>\n",
       "    <tr>\n",
       "      <th>2</th>\n",
       "      <td>10002</td>\n",
       "      <td>ABC</td>\n",
       "      <td>40002.0</td>\n",
       "      <td>KG</td>\n",
       "      <td>16758</td>\n",
       "    </tr>\n",
       "    <tr>\n",
       "      <th>3</th>\n",
       "      <td>10003</td>\n",
       "      <td>DEF</td>\n",
       "      <td>40003.0</td>\n",
       "      <td>KG</td>\n",
       "      <td>7407</td>\n",
       "    </tr>\n",
       "    <tr>\n",
       "      <th>4</th>\n",
       "      <td>10004</td>\n",
       "      <td>DEF</td>\n",
       "      <td>40003.0</td>\n",
       "      <td>KG</td>\n",
       "      <td>13061</td>\n",
       "    </tr>\n",
       "  </tbody>\n",
       "</table>\n",
       "</div>"
      ],
      "text/plain": [
       "   materialId plantId  supplierId unitOfMeasure quantityInUnitOfMeasure\n",
       "0       10001     ABC     40001.0            KG                   11125\n",
       "1       10001     ABC     40001.0            KG                   18808\n",
       "2       10002     ABC     40002.0            KG                   16758\n",
       "3       10003     DEF     40003.0            KG                    7407\n",
       "4       10004     DEF     40003.0            KG                   13061"
      ]
     },
     "execution_count": 4,
     "metadata": {},
     "output_type": "execute_result"
    }
   ],
   "source": [
    "external_purchase.head()"
   ]
  },
  {
   "cell_type": "code",
   "execution_count": 5,
   "id": "1842ce80-6717-4a80-861a-7ba266c39ca3",
   "metadata": {},
   "outputs": [
    {
     "data": {
      "text/plain": [
       "(3717, 5)"
      ]
     },
     "execution_count": 5,
     "metadata": {},
     "output_type": "execute_result"
    }
   ],
   "source": [
    "external_purchase.shape"
   ]
  },
  {
   "cell_type": "code",
   "execution_count": 6,
   "id": "963f35e4-a0d5-43b4-a549-33b82721c983",
   "metadata": {},
   "outputs": [
    {
     "data": {
      "text/html": [
       "<div>\n",
       "<style scoped>\n",
       "    .dataframe tbody tr th:only-of-type {\n",
       "        vertical-align: middle;\n",
       "    }\n",
       "\n",
       "    .dataframe tbody tr th {\n",
       "        vertical-align: top;\n",
       "    }\n",
       "\n",
       "    .dataframe thead th {\n",
       "        text-align: right;\n",
       "    }\n",
       "</style>\n",
       "<table border=\"1\" class=\"dataframe\">\n",
       "  <thead>\n",
       "    <tr style=\"text-align: right;\">\n",
       "      <th></th>\n",
       "      <th>materialId</th>\n",
       "      <th>supplierId</th>\n",
       "    </tr>\n",
       "  </thead>\n",
       "  <tbody>\n",
       "    <tr>\n",
       "      <th>count</th>\n",
       "      <td>3717.000000</td>\n",
       "      <td>3713.000000</td>\n",
       "    </tr>\n",
       "    <tr>\n",
       "      <th>mean</th>\n",
       "      <td>10014.883508</td>\n",
       "      <td>40008.941826</td>\n",
       "    </tr>\n",
       "    <tr>\n",
       "      <th>std</th>\n",
       "      <td>22.902168</td>\n",
       "      <td>12.787169</td>\n",
       "    </tr>\n",
       "    <tr>\n",
       "      <th>min</th>\n",
       "      <td>10001.000000</td>\n",
       "      <td>40001.000000</td>\n",
       "    </tr>\n",
       "    <tr>\n",
       "      <th>25%</th>\n",
       "      <td>10001.000000</td>\n",
       "      <td>40001.000000</td>\n",
       "    </tr>\n",
       "    <tr>\n",
       "      <th>50%</th>\n",
       "      <td>10004.000000</td>\n",
       "      <td>40003.000000</td>\n",
       "    </tr>\n",
       "    <tr>\n",
       "      <th>75%</th>\n",
       "      <td>10013.000000</td>\n",
       "      <td>40014.000000</td>\n",
       "    </tr>\n",
       "    <tr>\n",
       "      <th>max</th>\n",
       "      <td>10084.000000</td>\n",
       "      <td>40069.000000</td>\n",
       "    </tr>\n",
       "  </tbody>\n",
       "</table>\n",
       "</div>"
      ],
      "text/plain": [
       "         materialId    supplierId\n",
       "count   3717.000000   3713.000000\n",
       "mean   10014.883508  40008.941826\n",
       "std       22.902168     12.787169\n",
       "min    10001.000000  40001.000000\n",
       "25%    10001.000000  40001.000000\n",
       "50%    10004.000000  40003.000000\n",
       "75%    10013.000000  40014.000000\n",
       "max    10084.000000  40069.000000"
      ]
     },
     "execution_count": 6,
     "metadata": {},
     "output_type": "execute_result"
    }
   ],
   "source": [
    "external_purchase.describe()"
   ]
  },
  {
   "cell_type": "code",
   "execution_count": 7,
   "id": "0aa856d6-d671-4a42-9c83-42eb070b996f",
   "metadata": {},
   "outputs": [
    {
     "data": {
      "text/plain": [
       "materialId                   84\n",
       "plantId                       3\n",
       "supplierId                   69\n",
       "unitOfMeasure                 1\n",
       "quantityInUnitOfMeasure    3456\n",
       "dtype: int64"
      ]
     },
     "execution_count": 7,
     "metadata": {},
     "output_type": "execute_result"
    }
   ],
   "source": [
    "external_purchase.nunique()"
   ]
  },
  {
   "cell_type": "code",
   "execution_count": 8,
   "id": "2d0825d5-c6a3-4b6c-a012-a167b436ef34",
   "metadata": {},
   "outputs": [
    {
     "data": {
      "text/plain": [
       "materialId                   int64\n",
       "plantId                     object\n",
       "supplierId                 float64\n",
       "unitOfMeasure               object\n",
       "quantityInUnitOfMeasure     object\n",
       "dtype: object"
      ]
     },
     "execution_count": 8,
     "metadata": {},
     "output_type": "execute_result"
    }
   ],
   "source": [
    "external_purchase.dtypes"
   ]
  },
  {
   "cell_type": "code",
   "execution_count": 9,
   "id": "23c4baa3-e5dd-47a5-81a3-82eecdaede27",
   "metadata": {},
   "outputs": [
    {
     "data": {
      "text/plain": [
       "materialId                 0\n",
       "plantId                    0\n",
       "supplierId                 4\n",
       "unitOfMeasure              0\n",
       "quantityInUnitOfMeasure    0\n",
       "dtype: int64"
      ]
     },
     "execution_count": 9,
     "metadata": {},
     "output_type": "execute_result"
    }
   ],
   "source": [
    "external_purchase.isnull().sum()"
   ]
  },
  {
   "cell_type": "code",
   "execution_count": 10,
   "id": "73aa5aac-c95f-4f1a-901f-254d3a7f2451",
   "metadata": {},
   "outputs": [
    {
     "data": {
      "text/html": [
       "<div>\n",
       "<style scoped>\n",
       "    .dataframe tbody tr th:only-of-type {\n",
       "        vertical-align: middle;\n",
       "    }\n",
       "\n",
       "    .dataframe tbody tr th {\n",
       "        vertical-align: top;\n",
       "    }\n",
       "\n",
       "    .dataframe thead th {\n",
       "        text-align: right;\n",
       "    }\n",
       "</style>\n",
       "<table border=\"1\" class=\"dataframe\">\n",
       "  <thead>\n",
       "    <tr style=\"text-align: right;\">\n",
       "      <th></th>\n",
       "      <th>materialId</th>\n",
       "      <th>plantId</th>\n",
       "      <th>supplierId</th>\n",
       "      <th>unitOfMeasure</th>\n",
       "      <th>quantityInUnitOfMeasure</th>\n",
       "    </tr>\n",
       "  </thead>\n",
       "  <tbody>\n",
       "    <tr>\n",
       "      <th>14</th>\n",
       "      <td>10001</td>\n",
       "      <td>ABC</td>\n",
       "      <td>NaN</td>\n",
       "      <td>KG</td>\n",
       "      <td>20014</td>\n",
       "    </tr>\n",
       "    <tr>\n",
       "      <th>152</th>\n",
       "      <td>10001</td>\n",
       "      <td>ABC</td>\n",
       "      <td>NaN</td>\n",
       "      <td>KG</td>\n",
       "      <td>25798</td>\n",
       "    </tr>\n",
       "    <tr>\n",
       "      <th>308</th>\n",
       "      <td>10001</td>\n",
       "      <td>ABC</td>\n",
       "      <td>NaN</td>\n",
       "      <td>KG</td>\n",
       "      <td>29823</td>\n",
       "    </tr>\n",
       "    <tr>\n",
       "      <th>575</th>\n",
       "      <td>10001</td>\n",
       "      <td>ABC</td>\n",
       "      <td>NaN</td>\n",
       "      <td>KG</td>\n",
       "      <td>25041</td>\n",
       "    </tr>\n",
       "  </tbody>\n",
       "</table>\n",
       "</div>"
      ],
      "text/plain": [
       "     materialId plantId  supplierId unitOfMeasure quantityInUnitOfMeasure\n",
       "14        10001     ABC         NaN            KG                   20014\n",
       "152       10001     ABC         NaN            KG                   25798\n",
       "308       10001     ABC         NaN            KG                   29823\n",
       "575       10001     ABC         NaN            KG                   25041"
      ]
     },
     "execution_count": 10,
     "metadata": {},
     "output_type": "execute_result"
    }
   ],
   "source": [
    "external_purchase[external_purchase.supplierId.isnull()]"
   ]
  },
  {
   "cell_type": "code",
   "execution_count": 11,
   "id": "e9deeafb-1ae1-4f91-be72-f4f4d15d6421",
   "metadata": {},
   "outputs": [
    {
     "data": {
      "text/html": [
       "<div>\n",
       "<style scoped>\n",
       "    .dataframe tbody tr th:only-of-type {\n",
       "        vertical-align: middle;\n",
       "    }\n",
       "\n",
       "    .dataframe tbody tr th {\n",
       "        vertical-align: top;\n",
       "    }\n",
       "\n",
       "    .dataframe thead th {\n",
       "        text-align: right;\n",
       "    }\n",
       "</style>\n",
       "<table border=\"1\" class=\"dataframe\">\n",
       "  <thead>\n",
       "    <tr style=\"text-align: right;\">\n",
       "      <th></th>\n",
       "      <th>materialId</th>\n",
       "      <th>plantId</th>\n",
       "      <th>supplierId</th>\n",
       "      <th>unitOfMeasure</th>\n",
       "      <th>quantityInUnitOfMeasure</th>\n",
       "    </tr>\n",
       "  </thead>\n",
       "  <tbody>\n",
       "    <tr>\n",
       "      <th>0</th>\n",
       "      <td>10001</td>\n",
       "      <td>ABC</td>\n",
       "      <td>40001.0</td>\n",
       "      <td>KG</td>\n",
       "      <td>11125</td>\n",
       "    </tr>\n",
       "    <tr>\n",
       "      <th>1</th>\n",
       "      <td>10001</td>\n",
       "      <td>ABC</td>\n",
       "      <td>40001.0</td>\n",
       "      <td>KG</td>\n",
       "      <td>18808</td>\n",
       "    </tr>\n",
       "    <tr>\n",
       "      <th>12</th>\n",
       "      <td>10001</td>\n",
       "      <td>ABC</td>\n",
       "      <td>40001.0</td>\n",
       "      <td>KG</td>\n",
       "      <td>11834</td>\n",
       "    </tr>\n",
       "    <tr>\n",
       "      <th>13</th>\n",
       "      <td>10001</td>\n",
       "      <td>ABC</td>\n",
       "      <td>40001.0</td>\n",
       "      <td>KG</td>\n",
       "      <td>16129</td>\n",
       "    </tr>\n",
       "    <tr>\n",
       "      <th>14</th>\n",
       "      <td>10001</td>\n",
       "      <td>ABC</td>\n",
       "      <td>NaN</td>\n",
       "      <td>KG</td>\n",
       "      <td>20014</td>\n",
       "    </tr>\n",
       "    <tr>\n",
       "      <th>...</th>\n",
       "      <td>...</td>\n",
       "      <td>...</td>\n",
       "      <td>...</td>\n",
       "      <td>...</td>\n",
       "      <td>...</td>\n",
       "    </tr>\n",
       "    <tr>\n",
       "      <th>3711</th>\n",
       "      <td>10001</td>\n",
       "      <td>ABC</td>\n",
       "      <td>40001.0</td>\n",
       "      <td>KG</td>\n",
       "      <td>646</td>\n",
       "    </tr>\n",
       "    <tr>\n",
       "      <th>3712</th>\n",
       "      <td>10001</td>\n",
       "      <td>ABC</td>\n",
       "      <td>40001.0</td>\n",
       "      <td>KG</td>\n",
       "      <td>19871</td>\n",
       "    </tr>\n",
       "    <tr>\n",
       "      <th>3713</th>\n",
       "      <td>10001</td>\n",
       "      <td>ABC</td>\n",
       "      <td>40001.0</td>\n",
       "      <td>KG</td>\n",
       "      <td>19422</td>\n",
       "    </tr>\n",
       "    <tr>\n",
       "      <th>3714</th>\n",
       "      <td>10001</td>\n",
       "      <td>ABC</td>\n",
       "      <td>40001.0</td>\n",
       "      <td>KG</td>\n",
       "      <td>17454</td>\n",
       "    </tr>\n",
       "    <tr>\n",
       "      <th>3715</th>\n",
       "      <td>10001</td>\n",
       "      <td>ABC</td>\n",
       "      <td>40001.0</td>\n",
       "      <td>KG</td>\n",
       "      <td>31442</td>\n",
       "    </tr>\n",
       "  </tbody>\n",
       "</table>\n",
       "<p>1281 rows × 5 columns</p>\n",
       "</div>"
      ],
      "text/plain": [
       "      materialId plantId  supplierId unitOfMeasure quantityInUnitOfMeasure\n",
       "0          10001     ABC     40001.0            KG                   11125\n",
       "1          10001     ABC     40001.0            KG                   18808\n",
       "12         10001     ABC     40001.0            KG                   11834\n",
       "13         10001     ABC     40001.0            KG                   16129\n",
       "14         10001     ABC         NaN            KG                   20014\n",
       "...          ...     ...         ...           ...                     ...\n",
       "3711       10001     ABC     40001.0            KG                     646\n",
       "3712       10001     ABC     40001.0            KG                   19871\n",
       "3713       10001     ABC     40001.0            KG                   19422\n",
       "3714       10001     ABC     40001.0            KG                   17454\n",
       "3715       10001     ABC     40001.0            KG                   31442\n",
       "\n",
       "[1281 rows x 5 columns]"
      ]
     },
     "execution_count": 11,
     "metadata": {},
     "output_type": "execute_result"
    }
   ],
   "source": [
    "external_purchase[external_purchase.materialId==10001]"
   ]
  },
  {
   "cell_type": "code",
   "execution_count": 12,
   "id": "5e36b094-9080-48e8-8550-d589b8a5a373",
   "metadata": {},
   "outputs": [],
   "source": [
    "replace_dict=dict(zip(external_purchase.materialId, external_purchase.supplierId))"
   ]
  },
  {
   "cell_type": "code",
   "execution_count": 13,
   "id": "f1b6a2dc-aa46-4c51-a8fe-6186a9509e7c",
   "metadata": {},
   "outputs": [],
   "source": [
    "external_purchase.supplierId=external_purchase.materialId.apply(lambda x: str(int(replace_dict[x])))"
   ]
  },
  {
   "cell_type": "code",
   "execution_count": 14,
   "id": "8907177c-48ed-43ed-b2f0-03a45b766eba",
   "metadata": {},
   "outputs": [
    {
     "data": {
      "text/plain": [
       "array(['11125', '18808', '16758', ..., '17454', '31442', '24100'],\n",
       "      dtype=object)"
      ]
     },
     "execution_count": 14,
     "metadata": {},
     "output_type": "execute_result"
    }
   ],
   "source": [
    "external_purchase.quantityInUnitOfMeasure.unique()"
   ]
  },
  {
   "cell_type": "code",
   "execution_count": 15,
   "id": "e4aaaffb-21bf-439b-bf63-919c00729a85",
   "metadata": {},
   "outputs": [],
   "source": [
    "external_purchase.materialId=external_purchase.materialId.astype(object)\n",
    "external_purchase.plantId=external_purchase.plantId.astype(object)\n",
    "external_purchase.supplierId=external_purchase.supplierId.astype(object)\n",
    "external_purchase.unitOfMeasure=external_purchase.unitOfMeasure.astype(object)\n",
    "external_purchase.quantityInUnitOfMeasure=external_purchase.quantityInUnitOfMeasure.apply(lambda x:abs(float(x.replace('KG',''))) if not isinstance(x, float) else float(x))"
   ]
  },
  {
   "cell_type": "code",
   "execution_count": 16,
   "id": "89c97211-b6ae-474c-82d3-f2e5fb8edf74",
   "metadata": {},
   "outputs": [
    {
     "data": {
      "text/plain": [
       "materialId                  object\n",
       "plantId                     object\n",
       "supplierId                  object\n",
       "unitOfMeasure               object\n",
       "quantityInUnitOfMeasure    float64\n",
       "dtype: object"
      ]
     },
     "execution_count": 16,
     "metadata": {},
     "output_type": "execute_result"
    }
   ],
   "source": [
    "external_purchase.dtypes"
   ]
  },
  {
   "cell_type": "code",
   "execution_count": 17,
   "id": "e8b0b282-b1ae-4fcd-812c-f8e9165200e4",
   "metadata": {},
   "outputs": [
    {
     "data": {
      "text/html": [
       "<div>\n",
       "<style scoped>\n",
       "    .dataframe tbody tr th:only-of-type {\n",
       "        vertical-align: middle;\n",
       "    }\n",
       "\n",
       "    .dataframe tbody tr th {\n",
       "        vertical-align: top;\n",
       "    }\n",
       "\n",
       "    .dataframe thead th {\n",
       "        text-align: right;\n",
       "    }\n",
       "</style>\n",
       "<table border=\"1\" class=\"dataframe\">\n",
       "  <thead>\n",
       "    <tr style=\"text-align: right;\">\n",
       "      <th></th>\n",
       "      <th>materialId</th>\n",
       "      <th>plantId</th>\n",
       "      <th>supplierId</th>\n",
       "      <th>unitOfMeasure</th>\n",
       "      <th>quantityInUnitOfMeasure</th>\n",
       "    </tr>\n",
       "  </thead>\n",
       "  <tbody>\n",
       "  </tbody>\n",
       "</table>\n",
       "</div>"
      ],
      "text/plain": [
       "Empty DataFrame\n",
       "Columns: [materialId, plantId, supplierId, unitOfMeasure, quantityInUnitOfMeasure]\n",
       "Index: []"
      ]
     },
     "execution_count": 17,
     "metadata": {},
     "output_type": "execute_result"
    }
   ],
   "source": [
    "external_purchase[external_purchase.quantityInUnitOfMeasure<0]"
   ]
  },
  {
   "cell_type": "code",
   "execution_count": 18,
   "id": "48b104e0-729e-4c8f-a3a8-38f9d692ae6d",
   "metadata": {},
   "outputs": [
    {
     "data": {
      "text/html": [
       "<div>\n",
       "<style scoped>\n",
       "    .dataframe tbody tr th:only-of-type {\n",
       "        vertical-align: middle;\n",
       "    }\n",
       "\n",
       "    .dataframe tbody tr th {\n",
       "        vertical-align: top;\n",
       "    }\n",
       "\n",
       "    .dataframe thead th {\n",
       "        text-align: right;\n",
       "    }\n",
       "</style>\n",
       "<table border=\"1\" class=\"dataframe\">\n",
       "  <thead>\n",
       "    <tr style=\"text-align: right;\">\n",
       "      <th></th>\n",
       "      <th>uid</th>\n",
       "      <th>text</th>\n",
       "    </tr>\n",
       "  </thead>\n",
       "  <tbody>\n",
       "    <tr>\n",
       "      <th>0</th>\n",
       "      <td>10001</td>\n",
       "      <td>Material 1</td>\n",
       "    </tr>\n",
       "    <tr>\n",
       "      <th>1</th>\n",
       "      <td>10002</td>\n",
       "      <td>Material 2</td>\n",
       "    </tr>\n",
       "    <tr>\n",
       "      <th>2</th>\n",
       "      <td>10003</td>\n",
       "      <td>Material 3</td>\n",
       "    </tr>\n",
       "    <tr>\n",
       "      <th>3</th>\n",
       "      <td>10004</td>\n",
       "      <td>Material 4</td>\n",
       "    </tr>\n",
       "    <tr>\n",
       "      <th>4</th>\n",
       "      <td>10005</td>\n",
       "      <td>Material 5</td>\n",
       "    </tr>\n",
       "  </tbody>\n",
       "</table>\n",
       "</div>"
      ],
      "text/plain": [
       "     uid        text\n",
       "0  10001  Material 1\n",
       "1  10002  Material 2\n",
       "2  10003  Material 3\n",
       "3  10004  Material 4\n",
       "4  10005  Material 5"
      ]
     },
     "execution_count": 18,
     "metadata": {},
     "output_type": "execute_result"
    }
   ],
   "source": [
    "material.head()"
   ]
  },
  {
   "cell_type": "code",
   "execution_count": 19,
   "id": "b9347afa-6224-4ac1-a076-ef76740ffb40",
   "metadata": {},
   "outputs": [
    {
     "data": {
      "text/plain": [
       "uid     84\n",
       "text    84\n",
       "dtype: int64"
      ]
     },
     "execution_count": 19,
     "metadata": {},
     "output_type": "execute_result"
    }
   ],
   "source": [
    "material.nunique()"
   ]
  },
  {
   "cell_type": "code",
   "execution_count": 20,
   "id": "0edf72c5-9069-4159-aa57-1f9620b6cc4d",
   "metadata": {},
   "outputs": [
    {
     "data": {
      "text/plain": [
       "(84, 2)"
      ]
     },
     "execution_count": 20,
     "metadata": {},
     "output_type": "execute_result"
    }
   ],
   "source": [
    "material.shape\n"
   ]
  },
  {
   "cell_type": "code",
   "execution_count": 21,
   "id": "78d750d6-3a28-4087-b220-f6e441f5e90d",
   "metadata": {},
   "outputs": [
    {
     "data": {
      "text/html": [
       "<div>\n",
       "<style scoped>\n",
       "    .dataframe tbody tr th:only-of-type {\n",
       "        vertical-align: middle;\n",
       "    }\n",
       "\n",
       "    .dataframe tbody tr th {\n",
       "        vertical-align: top;\n",
       "    }\n",
       "\n",
       "    .dataframe thead th {\n",
       "        text-align: right;\n",
       "    }\n",
       "</style>\n",
       "<table border=\"1\" class=\"dataframe\">\n",
       "  <thead>\n",
       "    <tr style=\"text-align: right;\">\n",
       "      <th></th>\n",
       "      <th>uid</th>\n",
       "    </tr>\n",
       "  </thead>\n",
       "  <tbody>\n",
       "    <tr>\n",
       "      <th>count</th>\n",
       "      <td>84.000000</td>\n",
       "    </tr>\n",
       "    <tr>\n",
       "      <th>mean</th>\n",
       "      <td>10042.500000</td>\n",
       "    </tr>\n",
       "    <tr>\n",
       "      <th>std</th>\n",
       "      <td>24.392622</td>\n",
       "    </tr>\n",
       "    <tr>\n",
       "      <th>min</th>\n",
       "      <td>10001.000000</td>\n",
       "    </tr>\n",
       "    <tr>\n",
       "      <th>25%</th>\n",
       "      <td>10021.750000</td>\n",
       "    </tr>\n",
       "    <tr>\n",
       "      <th>50%</th>\n",
       "      <td>10042.500000</td>\n",
       "    </tr>\n",
       "    <tr>\n",
       "      <th>75%</th>\n",
       "      <td>10063.250000</td>\n",
       "    </tr>\n",
       "    <tr>\n",
       "      <th>max</th>\n",
       "      <td>10084.000000</td>\n",
       "    </tr>\n",
       "  </tbody>\n",
       "</table>\n",
       "</div>"
      ],
      "text/plain": [
       "                uid\n",
       "count     84.000000\n",
       "mean   10042.500000\n",
       "std       24.392622\n",
       "min    10001.000000\n",
       "25%    10021.750000\n",
       "50%    10042.500000\n",
       "75%    10063.250000\n",
       "max    10084.000000"
      ]
     },
     "execution_count": 21,
     "metadata": {},
     "output_type": "execute_result"
    }
   ],
   "source": [
    "material.describe()"
   ]
  },
  {
   "cell_type": "code",
   "execution_count": 22,
   "id": "2a98e1e8-15ec-457a-8c4c-efc9b6b11823",
   "metadata": {},
   "outputs": [
    {
     "data": {
      "text/plain": [
       "uid      int64\n",
       "text    object\n",
       "dtype: object"
      ]
     },
     "execution_count": 22,
     "metadata": {},
     "output_type": "execute_result"
    }
   ],
   "source": [
    "material.dtypes"
   ]
  },
  {
   "cell_type": "code",
   "execution_count": 23,
   "id": "7178b040-cd9a-46ab-b2d4-c1a0eed5fe40",
   "metadata": {},
   "outputs": [
    {
     "data": {
      "text/plain": [
       "uid     0\n",
       "text    0\n",
       "dtype: int64"
      ]
     },
     "execution_count": 23,
     "metadata": {},
     "output_type": "execute_result"
    }
   ],
   "source": [
    "material.isnull().sum()"
   ]
  },
  {
   "cell_type": "code",
   "execution_count": 24,
   "id": "442db560-b137-4d5e-be7b-7154d0bcaa37",
   "metadata": {},
   "outputs": [],
   "source": [
    "material.uid=material.uid.astype(object)"
   ]
  },
  {
   "cell_type": "code",
   "execution_count": 25,
   "id": "86775038-08cb-4e0e-94c4-0b1f850114f7",
   "metadata": {},
   "outputs": [
    {
     "data": {
      "text/plain": [
       "uid     object\n",
       "text    object\n",
       "dtype: object"
      ]
     },
     "execution_count": 25,
     "metadata": {},
     "output_type": "execute_result"
    }
   ],
   "source": [
    "material.dtypes"
   ]
  },
  {
   "cell_type": "code",
   "execution_count": 26,
   "id": "1e2d5a83-bcd4-4ca0-afce-aa227c7e19e2",
   "metadata": {},
   "outputs": [
    {
     "data": {
      "text/html": [
       "<div>\n",
       "<style scoped>\n",
       "    .dataframe tbody tr th:only-of-type {\n",
       "        vertical-align: middle;\n",
       "    }\n",
       "\n",
       "    .dataframe tbody tr th {\n",
       "        vertical-align: top;\n",
       "    }\n",
       "\n",
       "    .dataframe thead th {\n",
       "        text-align: right;\n",
       "    }\n",
       "</style>\n",
       "<table border=\"1\" class=\"dataframe\">\n",
       "  <thead>\n",
       "    <tr style=\"text-align: right;\">\n",
       "      <th></th>\n",
       "      <th>uid</th>\n",
       "      <th>text</th>\n",
       "      <th>region</th>\n",
       "    </tr>\n",
       "  </thead>\n",
       "  <tbody>\n",
       "    <tr>\n",
       "      <th>0</th>\n",
       "      <td>ABC</td>\n",
       "      <td>Plant A</td>\n",
       "      <td>EU</td>\n",
       "    </tr>\n",
       "    <tr>\n",
       "      <th>1</th>\n",
       "      <td>DEF</td>\n",
       "      <td>Plant B</td>\n",
       "      <td>EU</td>\n",
       "    </tr>\n",
       "    <tr>\n",
       "      <th>2</th>\n",
       "      <td>GHI</td>\n",
       "      <td>Plant C</td>\n",
       "      <td>USA</td>\n",
       "    </tr>\n",
       "  </tbody>\n",
       "</table>\n",
       "</div>"
      ],
      "text/plain": [
       "   uid     text region\n",
       "0  ABC  Plant A     EU\n",
       "1  DEF  Plant B     EU\n",
       "2  GHI  Plant C    USA"
      ]
     },
     "execution_count": 26,
     "metadata": {},
     "output_type": "execute_result"
    }
   ],
   "source": [
    "plant.head()"
   ]
  },
  {
   "cell_type": "code",
   "execution_count": 27,
   "id": "dc84ba0d-3ded-4dc6-a634-5c0f76d16a0a",
   "metadata": {},
   "outputs": [
    {
     "data": {
      "text/plain": [
       "uid       3\n",
       "text      3\n",
       "region    2\n",
       "dtype: int64"
      ]
     },
     "execution_count": 27,
     "metadata": {},
     "output_type": "execute_result"
    }
   ],
   "source": [
    "plant.nunique()"
   ]
  },
  {
   "cell_type": "code",
   "execution_count": 28,
   "id": "85c3f44b-4869-456e-b27b-3e063411e31e",
   "metadata": {},
   "outputs": [
    {
     "data": {
      "text/plain": [
       "(3, 3)"
      ]
     },
     "execution_count": 28,
     "metadata": {},
     "output_type": "execute_result"
    }
   ],
   "source": [
    "plant.shape"
   ]
  },
  {
   "cell_type": "code",
   "execution_count": 29,
   "id": "e69b4f73-4c66-494e-9451-5b690a4cfe55",
   "metadata": {},
   "outputs": [
    {
     "data": {
      "text/html": [
       "<div>\n",
       "<style scoped>\n",
       "    .dataframe tbody tr th:only-of-type {\n",
       "        vertical-align: middle;\n",
       "    }\n",
       "\n",
       "    .dataframe tbody tr th {\n",
       "        vertical-align: top;\n",
       "    }\n",
       "\n",
       "    .dataframe thead th {\n",
       "        text-align: right;\n",
       "    }\n",
       "</style>\n",
       "<table border=\"1\" class=\"dataframe\">\n",
       "  <thead>\n",
       "    <tr style=\"text-align: right;\">\n",
       "      <th></th>\n",
       "      <th>uid</th>\n",
       "      <th>text</th>\n",
       "      <th>region</th>\n",
       "    </tr>\n",
       "  </thead>\n",
       "  <tbody>\n",
       "    <tr>\n",
       "      <th>count</th>\n",
       "      <td>3</td>\n",
       "      <td>3</td>\n",
       "      <td>3</td>\n",
       "    </tr>\n",
       "    <tr>\n",
       "      <th>unique</th>\n",
       "      <td>3</td>\n",
       "      <td>3</td>\n",
       "      <td>2</td>\n",
       "    </tr>\n",
       "    <tr>\n",
       "      <th>top</th>\n",
       "      <td>ABC</td>\n",
       "      <td>Plant A</td>\n",
       "      <td>EU</td>\n",
       "    </tr>\n",
       "    <tr>\n",
       "      <th>freq</th>\n",
       "      <td>1</td>\n",
       "      <td>1</td>\n",
       "      <td>2</td>\n",
       "    </tr>\n",
       "  </tbody>\n",
       "</table>\n",
       "</div>"
      ],
      "text/plain": [
       "        uid     text region\n",
       "count     3        3      3\n",
       "unique    3        3      2\n",
       "top     ABC  Plant A     EU\n",
       "freq      1        1      2"
      ]
     },
     "execution_count": 29,
     "metadata": {},
     "output_type": "execute_result"
    }
   ],
   "source": [
    "plant.describe()"
   ]
  },
  {
   "cell_type": "code",
   "execution_count": 30,
   "id": "f06498ff-f563-40a1-bb69-7e9e9c80d4f8",
   "metadata": {},
   "outputs": [
    {
     "data": {
      "text/plain": [
       "uid       object\n",
       "text      object\n",
       "region    object\n",
       "dtype: object"
      ]
     },
     "execution_count": 30,
     "metadata": {},
     "output_type": "execute_result"
    }
   ],
   "source": [
    "plant.dtypes"
   ]
  },
  {
   "cell_type": "code",
   "execution_count": 31,
   "id": "d685381d-76ef-47f6-8541-cd7f278c6ada",
   "metadata": {},
   "outputs": [
    {
     "data": {
      "text/plain": [
       "uid       0\n",
       "text      0\n",
       "region    0\n",
       "dtype: int64"
      ]
     },
     "execution_count": 31,
     "metadata": {},
     "output_type": "execute_result"
    }
   ],
   "source": [
    "plant.isnull().sum()"
   ]
  },
  {
   "cell_type": "code",
   "execution_count": 32,
   "id": "d81eddd5-dc35-49d2-9f1e-a426ef644ec8",
   "metadata": {},
   "outputs": [
    {
     "data": {
      "text/html": [
       "<div>\n",
       "<style scoped>\n",
       "    .dataframe tbody tr th:only-of-type {\n",
       "        vertical-align: middle;\n",
       "    }\n",
       "\n",
       "    .dataframe tbody tr th {\n",
       "        vertical-align: top;\n",
       "    }\n",
       "\n",
       "    .dataframe thead th {\n",
       "        text-align: right;\n",
       "    }\n",
       "</style>\n",
       "<table border=\"1\" class=\"dataframe\">\n",
       "  <thead>\n",
       "    <tr style=\"text-align: right;\">\n",
       "      <th></th>\n",
       "      <th>uid</th>\n",
       "      <th>text</th>\n",
       "    </tr>\n",
       "  </thead>\n",
       "  <tbody>\n",
       "    <tr>\n",
       "      <th>0</th>\n",
       "      <td>40001</td>\n",
       "      <td>Supplier 1</td>\n",
       "    </tr>\n",
       "    <tr>\n",
       "      <th>1</th>\n",
       "      <td>40002</td>\n",
       "      <td>Supplier 2</td>\n",
       "    </tr>\n",
       "    <tr>\n",
       "      <th>2</th>\n",
       "      <td>40003</td>\n",
       "      <td>Supplier 3</td>\n",
       "    </tr>\n",
       "    <tr>\n",
       "      <th>3</th>\n",
       "      <td>40004</td>\n",
       "      <td>Supplier 4</td>\n",
       "    </tr>\n",
       "    <tr>\n",
       "      <th>4</th>\n",
       "      <td>40005</td>\n",
       "      <td>Supplier 5</td>\n",
       "    </tr>\n",
       "  </tbody>\n",
       "</table>\n",
       "</div>"
      ],
      "text/plain": [
       "     uid        text\n",
       "0  40001  Supplier 1\n",
       "1  40002  Supplier 2\n",
       "2  40003  Supplier 3\n",
       "3  40004  Supplier 4\n",
       "4  40005  Supplier 5"
      ]
     },
     "execution_count": 32,
     "metadata": {},
     "output_type": "execute_result"
    }
   ],
   "source": [
    "supplier.head()"
   ]
  },
  {
   "cell_type": "code",
   "execution_count": 33,
   "id": "e34bf918-581b-4323-9194-3dc5fea887ae",
   "metadata": {},
   "outputs": [
    {
     "data": {
      "text/plain": [
       "array([40001, 40002, 40003, 40004, 40005, 40006, 40007, 40008, 40009,\n",
       "       40010, 40011, 40012, 40013, 40014, 40015, 40016, 40017, 40018,\n",
       "       40019, 40020, 40021, 40022, 40023, 40024, 40025, 40026, 40027,\n",
       "       40028, 40029, 40030, 40031, 40032, 40033, 40034, 40035, 40036,\n",
       "       40037, 40038, 40039, 40040, 40041, 40042, 40043, 40044, 40045,\n",
       "       40046, 40047, 40048, 40049, 40050, 40051, 40052, 40053, 40054,\n",
       "       40055, 40056, 40057, 40058, 40059, 40060, 40061, 40062, 40063,\n",
       "       40064, 40065, 40066, 40067, 40068, 40069])"
      ]
     },
     "execution_count": 33,
     "metadata": {},
     "output_type": "execute_result"
    }
   ],
   "source": [
    "supplier.uid.unique()"
   ]
  },
  {
   "cell_type": "code",
   "execution_count": 34,
   "id": "7d31152b-c343-4c84-bf24-1f44a8a99776",
   "metadata": {},
   "outputs": [
    {
     "data": {
      "text/plain": [
       "uid     69\n",
       "text    69\n",
       "dtype: int64"
      ]
     },
     "execution_count": 34,
     "metadata": {},
     "output_type": "execute_result"
    }
   ],
   "source": [
    "supplier.nunique()"
   ]
  },
  {
   "cell_type": "code",
   "execution_count": 35,
   "id": "1796e7e9-a072-4b1c-b4fa-1a60f2baeac9",
   "metadata": {},
   "outputs": [
    {
     "data": {
      "text/plain": [
       "(69, 2)"
      ]
     },
     "execution_count": 35,
     "metadata": {},
     "output_type": "execute_result"
    }
   ],
   "source": [
    "supplier.shape"
   ]
  },
  {
   "cell_type": "code",
   "execution_count": 36,
   "id": "3edfdaf9-ba2a-493c-b98a-ec1101ba125b",
   "metadata": {},
   "outputs": [
    {
     "data": {
      "text/html": [
       "<div>\n",
       "<style scoped>\n",
       "    .dataframe tbody tr th:only-of-type {\n",
       "        vertical-align: middle;\n",
       "    }\n",
       "\n",
       "    .dataframe tbody tr th {\n",
       "        vertical-align: top;\n",
       "    }\n",
       "\n",
       "    .dataframe thead th {\n",
       "        text-align: right;\n",
       "    }\n",
       "</style>\n",
       "<table border=\"1\" class=\"dataframe\">\n",
       "  <thead>\n",
       "    <tr style=\"text-align: right;\">\n",
       "      <th></th>\n",
       "      <th>uid</th>\n",
       "    </tr>\n",
       "  </thead>\n",
       "  <tbody>\n",
       "    <tr>\n",
       "      <th>count</th>\n",
       "      <td>69.000000</td>\n",
       "    </tr>\n",
       "    <tr>\n",
       "      <th>mean</th>\n",
       "      <td>40035.000000</td>\n",
       "    </tr>\n",
       "    <tr>\n",
       "      <th>std</th>\n",
       "      <td>20.062403</td>\n",
       "    </tr>\n",
       "    <tr>\n",
       "      <th>min</th>\n",
       "      <td>40001.000000</td>\n",
       "    </tr>\n",
       "    <tr>\n",
       "      <th>25%</th>\n",
       "      <td>40018.000000</td>\n",
       "    </tr>\n",
       "    <tr>\n",
       "      <th>50%</th>\n",
       "      <td>40035.000000</td>\n",
       "    </tr>\n",
       "    <tr>\n",
       "      <th>75%</th>\n",
       "      <td>40052.000000</td>\n",
       "    </tr>\n",
       "    <tr>\n",
       "      <th>max</th>\n",
       "      <td>40069.000000</td>\n",
       "    </tr>\n",
       "  </tbody>\n",
       "</table>\n",
       "</div>"
      ],
      "text/plain": [
       "                uid\n",
       "count     69.000000\n",
       "mean   40035.000000\n",
       "std       20.062403\n",
       "min    40001.000000\n",
       "25%    40018.000000\n",
       "50%    40035.000000\n",
       "75%    40052.000000\n",
       "max    40069.000000"
      ]
     },
     "execution_count": 36,
     "metadata": {},
     "output_type": "execute_result"
    }
   ],
   "source": [
    "supplier.describe()"
   ]
  },
  {
   "cell_type": "code",
   "execution_count": 37,
   "id": "b3bc1f61-5515-42d5-8b99-d9a8dfe6a80d",
   "metadata": {},
   "outputs": [
    {
     "data": {
      "text/plain": [
       "uid      int64\n",
       "text    object\n",
       "dtype: object"
      ]
     },
     "execution_count": 37,
     "metadata": {},
     "output_type": "execute_result"
    }
   ],
   "source": [
    "supplier.dtypes"
   ]
  },
  {
   "cell_type": "code",
   "execution_count": 38,
   "id": "fa69d95d-9693-4842-8651-d14d66b426ae",
   "metadata": {},
   "outputs": [
    {
     "data": {
      "text/plain": [
       "uid     0\n",
       "text    0\n",
       "dtype: int64"
      ]
     },
     "execution_count": 38,
     "metadata": {},
     "output_type": "execute_result"
    }
   ],
   "source": [
    "supplier.isnull().sum()"
   ]
  },
  {
   "cell_type": "code",
   "execution_count": 39,
   "id": "ac820595-c757-49c6-ad4e-f7c2453ccae8",
   "metadata": {},
   "outputs": [],
   "source": [
    "supplier.uid=supplier.uid.astype(object)"
   ]
  },
  {
   "cell_type": "code",
   "execution_count": 40,
   "id": "ae9f1023-e733-4d74-a5bd-2e85c1d5ad86",
   "metadata": {},
   "outputs": [
    {
     "data": {
      "text/plain": [
       "uid     object\n",
       "text    object\n",
       "dtype: object"
      ]
     },
     "execution_count": 40,
     "metadata": {},
     "output_type": "execute_result"
    }
   ],
   "source": [
    "supplier.dtypes"
   ]
  }
 ],
 "metadata": {
  "kernelspec": {
   "display_name": "Python 3 (ipykernel)",
   "language": "python",
   "name": "python3"
  },
  "language_info": {
   "codemirror_mode": {
    "name": "ipython",
    "version": 3
   },
   "file_extension": ".py",
   "mimetype": "text/x-python",
   "name": "python",
   "nbconvert_exporter": "python",
   "pygments_lexer": "ipython3",
   "version": "3.8.10"
  }
 },
 "nbformat": 4,
 "nbformat_minor": 5
}
