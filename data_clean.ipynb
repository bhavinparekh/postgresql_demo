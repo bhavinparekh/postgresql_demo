{
 "cells": [
  {
   "cell_type": "code",
   "execution_count": 449,
   "id": "440b2926-4090-4c4b-9189-4243da05497e",
   "metadata": {},
   "outputs": [],
   "source": [
    "import pandas as pd\n",
    "import numpy as np\n",
    "import seaborn as sns"
   ]
  },
  {
   "cell_type": "code",
   "execution_count": 450,
   "id": "ea6dcbb2-4530-4dff-add9-f54bf50c2117",
   "metadata": {},
   "outputs": [],
   "source": [
    "    external_purchase =pd.read_csv('data/external_purchase.csv')\n",
    "    material=pd.read_csv('data/material.csv')\n",
    "    plant=pd.read_csv('data/plant.csv')\n",
    "    supplier=pd.read_csv('data/supplier.csv')"
   ]
  },
  {
   "cell_type": "code",
   "execution_count": 451,
   "id": "f6ba3cf8-7a82-4a8e-baa4-9f48808a9717",
   "metadata": {},
   "outputs": [],
   "source": [
    "#1 understanding the data and cleaning the data"
   ]
  },
  {
   "cell_type": "code",
   "execution_count": 452,
   "id": "1bd065ca-749a-4c7e-b02a-25badba93147",
   "metadata": {},
   "outputs": [
    {
     "data": {
      "text/html": [
       "<div>\n",
       "<style scoped>\n",
       "    .dataframe tbody tr th:only-of-type {\n",
       "        vertical-align: middle;\n",
       "    }\n",
       "\n",
       "    .dataframe tbody tr th {\n",
       "        vertical-align: top;\n",
       "    }\n",
       "\n",
       "    .dataframe thead th {\n",
       "        text-align: right;\n",
       "    }\n",
       "</style>\n",
       "<table border=\"1\" class=\"dataframe\">\n",
       "  <thead>\n",
       "    <tr style=\"text-align: right;\">\n",
       "      <th></th>\n",
       "      <th>materialId</th>\n",
       "      <th>plantId</th>\n",
       "      <th>supplierId</th>\n",
       "      <th>unitOfMeasure</th>\n",
       "      <th>quantityInUnitOfMeasure</th>\n",
       "    </tr>\n",
       "  </thead>\n",
       "  <tbody>\n",
       "    <tr>\n",
       "      <th>0</th>\n",
       "      <td>10001</td>\n",
       "      <td>ABC</td>\n",
       "      <td>40001.0</td>\n",
       "      <td>KG</td>\n",
       "      <td>11125</td>\n",
       "    </tr>\n",
       "    <tr>\n",
       "      <th>1</th>\n",
       "      <td>10001</td>\n",
       "      <td>ABC</td>\n",
       "      <td>40001.0</td>\n",
       "      <td>KG</td>\n",
       "      <td>18808</td>\n",
       "    </tr>\n",
       "    <tr>\n",
       "      <th>2</th>\n",
       "      <td>10002</td>\n",
       "      <td>ABC</td>\n",
       "      <td>40002.0</td>\n",
       "      <td>KG</td>\n",
       "      <td>16758</td>\n",
       "    </tr>\n",
       "    <tr>\n",
       "      <th>3</th>\n",
       "      <td>10003</td>\n",
       "      <td>DEF</td>\n",
       "      <td>40003.0</td>\n",
       "      <td>KG</td>\n",
       "      <td>7407</td>\n",
       "    </tr>\n",
       "    <tr>\n",
       "      <th>4</th>\n",
       "      <td>10004</td>\n",
       "      <td>DEF</td>\n",
       "      <td>40003.0</td>\n",
       "      <td>KG</td>\n",
       "      <td>13061</td>\n",
       "    </tr>\n",
       "  </tbody>\n",
       "</table>\n",
       "</div>"
      ],
      "text/plain": [
       "   materialId plantId  supplierId unitOfMeasure quantityInUnitOfMeasure\n",
       "0       10001     ABC     40001.0            KG                   11125\n",
       "1       10001     ABC     40001.0            KG                   18808\n",
       "2       10002     ABC     40002.0            KG                   16758\n",
       "3       10003     DEF     40003.0            KG                    7407\n",
       "4       10004     DEF     40003.0            KG                   13061"
      ]
     },
     "execution_count": 452,
     "metadata": {},
     "output_type": "execute_result"
    }
   ],
   "source": [
    "external_purchase.head()"
   ]
  },
  {
   "cell_type": "code",
   "execution_count": 453,
   "id": "1842ce80-6717-4a80-861a-7ba266c39ca3",
   "metadata": {},
   "outputs": [
    {
     "data": {
      "text/plain": [
       "(3717, 5)"
      ]
     },
     "execution_count": 453,
     "metadata": {},
     "output_type": "execute_result"
    }
   ],
   "source": [
    "external_purchase.shape"
   ]
  },
  {
   "cell_type": "code",
   "execution_count": 454,
   "id": "963f35e4-a0d5-43b4-a549-33b82721c983",
   "metadata": {},
   "outputs": [
    {
     "data": {
      "text/html": [
       "<div>\n",
       "<style scoped>\n",
       "    .dataframe tbody tr th:only-of-type {\n",
       "        vertical-align: middle;\n",
       "    }\n",
       "\n",
       "    .dataframe tbody tr th {\n",
       "        vertical-align: top;\n",
       "    }\n",
       "\n",
       "    .dataframe thead th {\n",
       "        text-align: right;\n",
       "    }\n",
       "</style>\n",
       "<table border=\"1\" class=\"dataframe\">\n",
       "  <thead>\n",
       "    <tr style=\"text-align: right;\">\n",
       "      <th></th>\n",
       "      <th>materialId</th>\n",
       "      <th>supplierId</th>\n",
       "    </tr>\n",
       "  </thead>\n",
       "  <tbody>\n",
       "    <tr>\n",
       "      <th>count</th>\n",
       "      <td>3717.000000</td>\n",
       "      <td>3713.000000</td>\n",
       "    </tr>\n",
       "    <tr>\n",
       "      <th>mean</th>\n",
       "      <td>10014.883508</td>\n",
       "      <td>40008.941826</td>\n",
       "    </tr>\n",
       "    <tr>\n",
       "      <th>std</th>\n",
       "      <td>22.902168</td>\n",
       "      <td>12.787169</td>\n",
       "    </tr>\n",
       "    <tr>\n",
       "      <th>min</th>\n",
       "      <td>10001.000000</td>\n",
       "      <td>40001.000000</td>\n",
       "    </tr>\n",
       "    <tr>\n",
       "      <th>25%</th>\n",
       "      <td>10001.000000</td>\n",
       "      <td>40001.000000</td>\n",
       "    </tr>\n",
       "    <tr>\n",
       "      <th>50%</th>\n",
       "      <td>10004.000000</td>\n",
       "      <td>40003.000000</td>\n",
       "    </tr>\n",
       "    <tr>\n",
       "      <th>75%</th>\n",
       "      <td>10013.000000</td>\n",
       "      <td>40014.000000</td>\n",
       "    </tr>\n",
       "    <tr>\n",
       "      <th>max</th>\n",
       "      <td>10084.000000</td>\n",
       "      <td>40069.000000</td>\n",
       "    </tr>\n",
       "  </tbody>\n",
       "</table>\n",
       "</div>"
      ],
      "text/plain": [
       "         materialId    supplierId\n",
       "count   3717.000000   3713.000000\n",
       "mean   10014.883508  40008.941826\n",
       "std       22.902168     12.787169\n",
       "min    10001.000000  40001.000000\n",
       "25%    10001.000000  40001.000000\n",
       "50%    10004.000000  40003.000000\n",
       "75%    10013.000000  40014.000000\n",
       "max    10084.000000  40069.000000"
      ]
     },
     "execution_count": 454,
     "metadata": {},
     "output_type": "execute_result"
    }
   ],
   "source": [
    "external_purchase.describe()"
   ]
  },
  {
   "cell_type": "code",
   "execution_count": 455,
   "id": "0aa856d6-d671-4a42-9c83-42eb070b996f",
   "metadata": {},
   "outputs": [
    {
     "data": {
      "text/plain": [
       "materialId                   84\n",
       "plantId                       3\n",
       "supplierId                   69\n",
       "unitOfMeasure                 1\n",
       "quantityInUnitOfMeasure    3456\n",
       "dtype: int64"
      ]
     },
     "execution_count": 455,
     "metadata": {},
     "output_type": "execute_result"
    }
   ],
   "source": [
    "external_purchase.nunique()"
   ]
  },
  {
   "cell_type": "code",
   "execution_count": 456,
   "id": "2d0825d5-c6a3-4b6c-a012-a167b436ef34",
   "metadata": {},
   "outputs": [
    {
     "data": {
      "text/plain": [
       "materialId                   int64\n",
       "plantId                     object\n",
       "supplierId                 float64\n",
       "unitOfMeasure               object\n",
       "quantityInUnitOfMeasure     object\n",
       "dtype: object"
      ]
     },
     "execution_count": 456,
     "metadata": {},
     "output_type": "execute_result"
    }
   ],
   "source": [
    "external_purchase.dtypes"
   ]
  },
  {
   "cell_type": "code",
   "execution_count": 457,
   "id": "23c4baa3-e5dd-47a5-81a3-82eecdaede27",
   "metadata": {},
   "outputs": [
    {
     "data": {
      "text/plain": [
       "materialId                 0\n",
       "plantId                    0\n",
       "supplierId                 4\n",
       "unitOfMeasure              0\n",
       "quantityInUnitOfMeasure    0\n",
       "dtype: int64"
      ]
     },
     "execution_count": 457,
     "metadata": {},
     "output_type": "execute_result"
    }
   ],
   "source": [
    "external_purchase.isnull().sum()"
   ]
  },
  {
   "cell_type": "code",
   "execution_count": 458,
   "id": "73aa5aac-c95f-4f1a-901f-254d3a7f2451",
   "metadata": {},
   "outputs": [
    {
     "data": {
      "text/html": [
       "<div>\n",
       "<style scoped>\n",
       "    .dataframe tbody tr th:only-of-type {\n",
       "        vertical-align: middle;\n",
       "    }\n",
       "\n",
       "    .dataframe tbody tr th {\n",
       "        vertical-align: top;\n",
       "    }\n",
       "\n",
       "    .dataframe thead th {\n",
       "        text-align: right;\n",
       "    }\n",
       "</style>\n",
       "<table border=\"1\" class=\"dataframe\">\n",
       "  <thead>\n",
       "    <tr style=\"text-align: right;\">\n",
       "      <th></th>\n",
       "      <th>materialId</th>\n",
       "      <th>plantId</th>\n",
       "      <th>supplierId</th>\n",
       "      <th>unitOfMeasure</th>\n",
       "      <th>quantityInUnitOfMeasure</th>\n",
       "    </tr>\n",
       "  </thead>\n",
       "  <tbody>\n",
       "    <tr>\n",
       "      <th>14</th>\n",
       "      <td>10001</td>\n",
       "      <td>ABC</td>\n",
       "      <td>NaN</td>\n",
       "      <td>KG</td>\n",
       "      <td>20014</td>\n",
       "    </tr>\n",
       "    <tr>\n",
       "      <th>152</th>\n",
       "      <td>10001</td>\n",
       "      <td>ABC</td>\n",
       "      <td>NaN</td>\n",
       "      <td>KG</td>\n",
       "      <td>25798</td>\n",
       "    </tr>\n",
       "    <tr>\n",
       "      <th>308</th>\n",
       "      <td>10001</td>\n",
       "      <td>ABC</td>\n",
       "      <td>NaN</td>\n",
       "      <td>KG</td>\n",
       "      <td>29823</td>\n",
       "    </tr>\n",
       "    <tr>\n",
       "      <th>575</th>\n",
       "      <td>10001</td>\n",
       "      <td>ABC</td>\n",
       "      <td>NaN</td>\n",
       "      <td>KG</td>\n",
       "      <td>25041</td>\n",
       "    </tr>\n",
       "  </tbody>\n",
       "</table>\n",
       "</div>"
      ],
      "text/plain": [
       "     materialId plantId  supplierId unitOfMeasure quantityInUnitOfMeasure\n",
       "14        10001     ABC         NaN            KG                   20014\n",
       "152       10001     ABC         NaN            KG                   25798\n",
       "308       10001     ABC         NaN            KG                   29823\n",
       "575       10001     ABC         NaN            KG                   25041"
      ]
     },
     "execution_count": 458,
     "metadata": {},
     "output_type": "execute_result"
    }
   ],
   "source": [
    "external_purchase[external_purchase.supplierId.isnull()]"
   ]
  },
  {
   "cell_type": "code",
   "execution_count": 459,
   "id": "e9deeafb-1ae1-4f91-be72-f4f4d15d6421",
   "metadata": {},
   "outputs": [
    {
     "data": {
      "text/html": [
       "<div>\n",
       "<style scoped>\n",
       "    .dataframe tbody tr th:only-of-type {\n",
       "        vertical-align: middle;\n",
       "    }\n",
       "\n",
       "    .dataframe tbody tr th {\n",
       "        vertical-align: top;\n",
       "    }\n",
       "\n",
       "    .dataframe thead th {\n",
       "        text-align: right;\n",
       "    }\n",
       "</style>\n",
       "<table border=\"1\" class=\"dataframe\">\n",
       "  <thead>\n",
       "    <tr style=\"text-align: right;\">\n",
       "      <th></th>\n",
       "      <th>materialId</th>\n",
       "      <th>plantId</th>\n",
       "      <th>supplierId</th>\n",
       "      <th>unitOfMeasure</th>\n",
       "      <th>quantityInUnitOfMeasure</th>\n",
       "    </tr>\n",
       "  </thead>\n",
       "  <tbody>\n",
       "    <tr>\n",
       "      <th>0</th>\n",
       "      <td>10001</td>\n",
       "      <td>ABC</td>\n",
       "      <td>40001.0</td>\n",
       "      <td>KG</td>\n",
       "      <td>11125</td>\n",
       "    </tr>\n",
       "    <tr>\n",
       "      <th>1</th>\n",
       "      <td>10001</td>\n",
       "      <td>ABC</td>\n",
       "      <td>40001.0</td>\n",
       "      <td>KG</td>\n",
       "      <td>18808</td>\n",
       "    </tr>\n",
       "    <tr>\n",
       "      <th>12</th>\n",
       "      <td>10001</td>\n",
       "      <td>ABC</td>\n",
       "      <td>40001.0</td>\n",
       "      <td>KG</td>\n",
       "      <td>11834</td>\n",
       "    </tr>\n",
       "    <tr>\n",
       "      <th>13</th>\n",
       "      <td>10001</td>\n",
       "      <td>ABC</td>\n",
       "      <td>40001.0</td>\n",
       "      <td>KG</td>\n",
       "      <td>16129</td>\n",
       "    </tr>\n",
       "    <tr>\n",
       "      <th>14</th>\n",
       "      <td>10001</td>\n",
       "      <td>ABC</td>\n",
       "      <td>NaN</td>\n",
       "      <td>KG</td>\n",
       "      <td>20014</td>\n",
       "    </tr>\n",
       "    <tr>\n",
       "      <th>...</th>\n",
       "      <td>...</td>\n",
       "      <td>...</td>\n",
       "      <td>...</td>\n",
       "      <td>...</td>\n",
       "      <td>...</td>\n",
       "    </tr>\n",
       "    <tr>\n",
       "      <th>3711</th>\n",
       "      <td>10001</td>\n",
       "      <td>ABC</td>\n",
       "      <td>40001.0</td>\n",
       "      <td>KG</td>\n",
       "      <td>646</td>\n",
       "    </tr>\n",
       "    <tr>\n",
       "      <th>3712</th>\n",
       "      <td>10001</td>\n",
       "      <td>ABC</td>\n",
       "      <td>40001.0</td>\n",
       "      <td>KG</td>\n",
       "      <td>19871</td>\n",
       "    </tr>\n",
       "    <tr>\n",
       "      <th>3713</th>\n",
       "      <td>10001</td>\n",
       "      <td>ABC</td>\n",
       "      <td>40001.0</td>\n",
       "      <td>KG</td>\n",
       "      <td>19422</td>\n",
       "    </tr>\n",
       "    <tr>\n",
       "      <th>3714</th>\n",
       "      <td>10001</td>\n",
       "      <td>ABC</td>\n",
       "      <td>40001.0</td>\n",
       "      <td>KG</td>\n",
       "      <td>17454</td>\n",
       "    </tr>\n",
       "    <tr>\n",
       "      <th>3715</th>\n",
       "      <td>10001</td>\n",
       "      <td>ABC</td>\n",
       "      <td>40001.0</td>\n",
       "      <td>KG</td>\n",
       "      <td>31442</td>\n",
       "    </tr>\n",
       "  </tbody>\n",
       "</table>\n",
       "<p>1281 rows × 5 columns</p>\n",
       "</div>"
      ],
      "text/plain": [
       "      materialId plantId  supplierId unitOfMeasure quantityInUnitOfMeasure\n",
       "0          10001     ABC     40001.0            KG                   11125\n",
       "1          10001     ABC     40001.0            KG                   18808\n",
       "12         10001     ABC     40001.0            KG                   11834\n",
       "13         10001     ABC     40001.0            KG                   16129\n",
       "14         10001     ABC         NaN            KG                   20014\n",
       "...          ...     ...         ...           ...                     ...\n",
       "3711       10001     ABC     40001.0            KG                     646\n",
       "3712       10001     ABC     40001.0            KG                   19871\n",
       "3713       10001     ABC     40001.0            KG                   19422\n",
       "3714       10001     ABC     40001.0            KG                   17454\n",
       "3715       10001     ABC     40001.0            KG                   31442\n",
       "\n",
       "[1281 rows x 5 columns]"
      ]
     },
     "execution_count": 459,
     "metadata": {},
     "output_type": "execute_result"
    }
   ],
   "source": [
    "external_purchase[external_purchase.materialId==10001]"
   ]
  },
  {
   "cell_type": "code",
   "execution_count": 460,
   "id": "5e36b094-9080-48e8-8550-d589b8a5a373",
   "metadata": {},
   "outputs": [],
   "source": [
    "replace_dict=dict(zip(external_purchase.materialId, external_purchase.supplierId))"
   ]
  },
  {
   "cell_type": "code",
   "execution_count": 461,
   "id": "f1b6a2dc-aa46-4c51-a8fe-6186a9509e7c",
   "metadata": {},
   "outputs": [],
   "source": [
    "external_purchase.supplierId=external_purchase.materialId.apply(lambda x: str(int(replace_dict[x])))"
   ]
  },
  {
   "cell_type": "code",
   "execution_count": 462,
   "id": "8907177c-48ed-43ed-b2f0-03a45b766eba",
   "metadata": {},
   "outputs": [
    {
     "data": {
      "text/plain": [
       "array(['11125', '18808', '16758', ..., '17454', '31442', '24100'],\n",
       "      dtype=object)"
      ]
     },
     "execution_count": 462,
     "metadata": {},
     "output_type": "execute_result"
    }
   ],
   "source": [
    "external_purchase.quantityInUnitOfMeasure.unique()"
   ]
  },
  {
   "cell_type": "code",
   "execution_count": 442,
   "id": "e4aaaffb-21bf-439b-bf63-919c00729a85",
   "metadata": {},
   "outputs": [],
   "source": [
    "external_purchase.materialId=external_purchase.materialId.astype(object)\n",
    "external_purchase.plantId=external_purchase.plantId.astype(object)\n",
    "external_purchase.supplierId=external_purchase.supplierId.astype(object)\n",
    "external_purchase.unitOfMeasure=external_purchase.unitOfMeasure.astype(object)\n",
    "external_purchase.quantityInUnitOfMeasure=external_purchase.quantityInUnitOfMeasure.apply(lambda x:abs(float(x.replace('KG',''))) if not isinstance(x, float) else float(x))"
   ]
  },
  {
   "cell_type": "code",
   "execution_count": 443,
   "id": "89c97211-b6ae-474c-82d3-f2e5fb8edf74",
   "metadata": {},
   "outputs": [
    {
     "data": {
      "text/plain": [
       "materialId                  object\n",
       "plantId                     object\n",
       "supplierId                  object\n",
       "unitOfMeasure               object\n",
       "quantityInUnitOfMeasure    float64\n",
       "dtype: object"
      ]
     },
     "execution_count": 443,
     "metadata": {},
     "output_type": "execute_result"
    }
   ],
   "source": [
    "external_purchase.dtypes"
   ]
  },
  {
   "cell_type": "code",
   "execution_count": 444,
   "id": "e8b0b282-b1ae-4fcd-812c-f8e9165200e4",
   "metadata": {},
   "outputs": [
    {
     "data": {
      "text/html": [
       "<div>\n",
       "<style scoped>\n",
       "    .dataframe tbody tr th:only-of-type {\n",
       "        vertical-align: middle;\n",
       "    }\n",
       "\n",
       "    .dataframe tbody tr th {\n",
       "        vertical-align: top;\n",
       "    }\n",
       "\n",
       "    .dataframe thead th {\n",
       "        text-align: right;\n",
       "    }\n",
       "</style>\n",
       "<table border=\"1\" class=\"dataframe\">\n",
       "  <thead>\n",
       "    <tr style=\"text-align: right;\">\n",
       "      <th></th>\n",
       "      <th>materialId</th>\n",
       "      <th>plantId</th>\n",
       "      <th>supplierId</th>\n",
       "      <th>unitOfMeasure</th>\n",
       "      <th>quantityInUnitOfMeasure</th>\n",
       "    </tr>\n",
       "  </thead>\n",
       "  <tbody>\n",
       "  </tbody>\n",
       "</table>\n",
       "</div>"
      ],
      "text/plain": [
       "Empty DataFrame\n",
       "Columns: [materialId, plantId, supplierId, unitOfMeasure, quantityInUnitOfMeasure]\n",
       "Index: []"
      ]
     },
     "execution_count": 444,
     "metadata": {},
     "output_type": "execute_result"
    }
   ],
   "source": [
    "external_purchase[external_purchase.quantityInUnitOfMeasure<0]"
   ]
  },
  {
   "cell_type": "code",
   "execution_count": 439,
   "id": "48b104e0-729e-4c8f-a3a8-38f9d692ae6d",
   "metadata": {},
   "outputs": [
    {
     "data": {
      "text/html": [
       "<div>\n",
       "<style scoped>\n",
       "    .dataframe tbody tr th:only-of-type {\n",
       "        vertical-align: middle;\n",
       "    }\n",
       "\n",
       "    .dataframe tbody tr th {\n",
       "        vertical-align: top;\n",
       "    }\n",
       "\n",
       "    .dataframe thead th {\n",
       "        text-align: right;\n",
       "    }\n",
       "</style>\n",
       "<table border=\"1\" class=\"dataframe\">\n",
       "  <thead>\n",
       "    <tr style=\"text-align: right;\">\n",
       "      <th></th>\n",
       "      <th>uid</th>\n",
       "      <th>text</th>\n",
       "    </tr>\n",
       "  </thead>\n",
       "  <tbody>\n",
       "    <tr>\n",
       "      <th>0</th>\n",
       "      <td>10001</td>\n",
       "      <td>Material 1</td>\n",
       "    </tr>\n",
       "    <tr>\n",
       "      <th>1</th>\n",
       "      <td>10002</td>\n",
       "      <td>Material 2</td>\n",
       "    </tr>\n",
       "    <tr>\n",
       "      <th>2</th>\n",
       "      <td>10003</td>\n",
       "      <td>Material 3</td>\n",
       "    </tr>\n",
       "    <tr>\n",
       "      <th>3</th>\n",
       "      <td>10004</td>\n",
       "      <td>Material 4</td>\n",
       "    </tr>\n",
       "    <tr>\n",
       "      <th>4</th>\n",
       "      <td>10005</td>\n",
       "      <td>Material 5</td>\n",
       "    </tr>\n",
       "  </tbody>\n",
       "</table>\n",
       "</div>"
      ],
      "text/plain": [
       "     uid        text\n",
       "0  10001  Material 1\n",
       "1  10002  Material 2\n",
       "2  10003  Material 3\n",
       "3  10004  Material 4\n",
       "4  10005  Material 5"
      ]
     },
     "execution_count": 439,
     "metadata": {},
     "output_type": "execute_result"
    }
   ],
   "source": [
    "material.head()"
   ]
  },
  {
   "cell_type": "code",
   "execution_count": 440,
   "id": "b9347afa-6224-4ac1-a076-ef76740ffb40",
   "metadata": {},
   "outputs": [
    {
     "data": {
      "text/plain": [
       "uid     84\n",
       "text    84\n",
       "dtype: int64"
      ]
     },
     "execution_count": 440,
     "metadata": {},
     "output_type": "execute_result"
    }
   ],
   "source": [
    "material.nunique()"
   ]
  },
  {
   "cell_type": "code",
   "execution_count": 441,
   "id": "0edf72c5-9069-4159-aa57-1f9620b6cc4d",
   "metadata": {},
   "outputs": [
    {
     "data": {
      "text/plain": [
       "(84, 2)"
      ]
     },
     "execution_count": 441,
     "metadata": {},
     "output_type": "execute_result"
    }
   ],
   "source": [
    "material.shape\n"
   ]
  },
  {
   "cell_type": "code",
   "execution_count": 223,
   "id": "78d750d6-3a28-4087-b220-f6e441f5e90d",
   "metadata": {},
   "outputs": [
    {
     "data": {
      "text/html": [
       "<div>\n",
       "<style scoped>\n",
       "    .dataframe tbody tr th:only-of-type {\n",
       "        vertical-align: middle;\n",
       "    }\n",
       "\n",
       "    .dataframe tbody tr th {\n",
       "        vertical-align: top;\n",
       "    }\n",
       "\n",
       "    .dataframe thead th {\n",
       "        text-align: right;\n",
       "    }\n",
       "</style>\n",
       "<table border=\"1\" class=\"dataframe\">\n",
       "  <thead>\n",
       "    <tr style=\"text-align: right;\">\n",
       "      <th></th>\n",
       "      <th>uid</th>\n",
       "    </tr>\n",
       "  </thead>\n",
       "  <tbody>\n",
       "    <tr>\n",
       "      <th>count</th>\n",
       "      <td>84.000000</td>\n",
       "    </tr>\n",
       "    <tr>\n",
       "      <th>mean</th>\n",
       "      <td>10042.500000</td>\n",
       "    </tr>\n",
       "    <tr>\n",
       "      <th>std</th>\n",
       "      <td>24.392622</td>\n",
       "    </tr>\n",
       "    <tr>\n",
       "      <th>min</th>\n",
       "      <td>10001.000000</td>\n",
       "    </tr>\n",
       "    <tr>\n",
       "      <th>25%</th>\n",
       "      <td>10021.750000</td>\n",
       "    </tr>\n",
       "    <tr>\n",
       "      <th>50%</th>\n",
       "      <td>10042.500000</td>\n",
       "    </tr>\n",
       "    <tr>\n",
       "      <th>75%</th>\n",
       "      <td>10063.250000</td>\n",
       "    </tr>\n",
       "    <tr>\n",
       "      <th>max</th>\n",
       "      <td>10084.000000</td>\n",
       "    </tr>\n",
       "  </tbody>\n",
       "</table>\n",
       "</div>"
      ],
      "text/plain": [
       "                uid\n",
       "count     84.000000\n",
       "mean   10042.500000\n",
       "std       24.392622\n",
       "min    10001.000000\n",
       "25%    10021.750000\n",
       "50%    10042.500000\n",
       "75%    10063.250000\n",
       "max    10084.000000"
      ]
     },
     "execution_count": 223,
     "metadata": {},
     "output_type": "execute_result"
    }
   ],
   "source": [
    "material.describe()"
   ]
  },
  {
   "cell_type": "code",
   "execution_count": 237,
   "id": "2a98e1e8-15ec-457a-8c4c-efc9b6b11823",
   "metadata": {},
   "outputs": [
    {
     "data": {
      "text/plain": [
       "uid      int64\n",
       "text    object\n",
       "dtype: object"
      ]
     },
     "execution_count": 237,
     "metadata": {},
     "output_type": "execute_result"
    }
   ],
   "source": [
    "material.dtypes"
   ]
  },
  {
   "cell_type": "code",
   "execution_count": 241,
   "id": "7178b040-cd9a-46ab-b2d4-c1a0eed5fe40",
   "metadata": {},
   "outputs": [
    {
     "data": {
      "text/plain": [
       "uid     0\n",
       "text    0\n",
       "dtype: int64"
      ]
     },
     "execution_count": 241,
     "metadata": {},
     "output_type": "execute_result"
    }
   ],
   "source": [
    "material.isnull().sum()"
   ]
  },
  {
   "cell_type": "code",
   "execution_count": 261,
   "id": "442db560-b137-4d5e-be7b-7154d0bcaa37",
   "metadata": {},
   "outputs": [],
   "source": [
    "material.uid=material.uid.astype(object)"
   ]
  },
  {
   "cell_type": "code",
   "execution_count": 263,
   "id": "86775038-08cb-4e0e-94c4-0b1f850114f7",
   "metadata": {},
   "outputs": [
    {
     "data": {
      "text/plain": [
       "uid     object\n",
       "text    object\n",
       "dtype: object"
      ]
     },
     "execution_count": 263,
     "metadata": {},
     "output_type": "execute_result"
    }
   ],
   "source": [
    "material.dtypes"
   ]
  },
  {
   "cell_type": "code",
   "execution_count": 227,
   "id": "1e2d5a83-bcd4-4ca0-afce-aa227c7e19e2",
   "metadata": {},
   "outputs": [
    {
     "data": {
      "text/html": [
       "<div>\n",
       "<style scoped>\n",
       "    .dataframe tbody tr th:only-of-type {\n",
       "        vertical-align: middle;\n",
       "    }\n",
       "\n",
       "    .dataframe tbody tr th {\n",
       "        vertical-align: top;\n",
       "    }\n",
       "\n",
       "    .dataframe thead th {\n",
       "        text-align: right;\n",
       "    }\n",
       "</style>\n",
       "<table border=\"1\" class=\"dataframe\">\n",
       "  <thead>\n",
       "    <tr style=\"text-align: right;\">\n",
       "      <th></th>\n",
       "      <th>uid</th>\n",
       "      <th>text</th>\n",
       "      <th>region</th>\n",
       "    </tr>\n",
       "  </thead>\n",
       "  <tbody>\n",
       "    <tr>\n",
       "      <th>0</th>\n",
       "      <td>ABC</td>\n",
       "      <td>Plant A</td>\n",
       "      <td>EU</td>\n",
       "    </tr>\n",
       "    <tr>\n",
       "      <th>1</th>\n",
       "      <td>DEF</td>\n",
       "      <td>Plant B</td>\n",
       "      <td>EU</td>\n",
       "    </tr>\n",
       "    <tr>\n",
       "      <th>2</th>\n",
       "      <td>GHI</td>\n",
       "      <td>Plant C</td>\n",
       "      <td>USA</td>\n",
       "    </tr>\n",
       "  </tbody>\n",
       "</table>\n",
       "</div>"
      ],
      "text/plain": [
       "   uid     text region\n",
       "0  ABC  Plant A     EU\n",
       "1  DEF  Plant B     EU\n",
       "2  GHI  Plant C    USA"
      ]
     },
     "execution_count": 227,
     "metadata": {},
     "output_type": "execute_result"
    }
   ],
   "source": [
    "plant.head()"
   ]
  },
  {
   "cell_type": "code",
   "execution_count": 228,
   "id": "dc84ba0d-3ded-4dc6-a634-5c0f76d16a0a",
   "metadata": {},
   "outputs": [
    {
     "ename": "AttributeError",
     "evalue": "'DataFrame' object has no attribute 'unique'",
     "output_type": "error",
     "traceback": [
      "\u001b[0;31m---------------------------------------------------------------------------\u001b[0m",
      "\u001b[0;31mAttributeError\u001b[0m                            Traceback (most recent call last)",
      "\u001b[0;32m/tmp/ipykernel_11856/1858714465.py\u001b[0m in \u001b[0;36m<module>\u001b[0;34m\u001b[0m\n\u001b[0;32m----> 1\u001b[0;31m \u001b[0mplant\u001b[0m\u001b[0;34m.\u001b[0m\u001b[0munique\u001b[0m\u001b[0;34m(\u001b[0m\u001b[0;34m)\u001b[0m\u001b[0;34m\u001b[0m\u001b[0;34m\u001b[0m\u001b[0m\n\u001b[0m",
      "\u001b[0;32m/usr/local/lib/python3.8/dist-packages/pandas/core/generic.py\u001b[0m in \u001b[0;36m__getattr__\u001b[0;34m(self, name)\u001b[0m\n\u001b[1;32m   5485\u001b[0m         ):\n\u001b[1;32m   5486\u001b[0m             \u001b[0;32mreturn\u001b[0m \u001b[0mself\u001b[0m\u001b[0;34m[\u001b[0m\u001b[0mname\u001b[0m\u001b[0;34m]\u001b[0m\u001b[0;34m\u001b[0m\u001b[0;34m\u001b[0m\u001b[0m\n\u001b[0;32m-> 5487\u001b[0;31m         \u001b[0;32mreturn\u001b[0m \u001b[0mobject\u001b[0m\u001b[0;34m.\u001b[0m\u001b[0m__getattribute__\u001b[0m\u001b[0;34m(\u001b[0m\u001b[0mself\u001b[0m\u001b[0;34m,\u001b[0m \u001b[0mname\u001b[0m\u001b[0;34m)\u001b[0m\u001b[0;34m\u001b[0m\u001b[0;34m\u001b[0m\u001b[0m\n\u001b[0m\u001b[1;32m   5488\u001b[0m \u001b[0;34m\u001b[0m\u001b[0m\n\u001b[1;32m   5489\u001b[0m     \u001b[0;32mdef\u001b[0m \u001b[0m__setattr__\u001b[0m\u001b[0;34m(\u001b[0m\u001b[0mself\u001b[0m\u001b[0;34m,\u001b[0m \u001b[0mname\u001b[0m\u001b[0;34m:\u001b[0m \u001b[0mstr\u001b[0m\u001b[0;34m,\u001b[0m \u001b[0mvalue\u001b[0m\u001b[0;34m)\u001b[0m \u001b[0;34m->\u001b[0m \u001b[0;32mNone\u001b[0m\u001b[0;34m:\u001b[0m\u001b[0;34m\u001b[0m\u001b[0;34m\u001b[0m\u001b[0m\n",
      "\u001b[0;31mAttributeError\u001b[0m: 'DataFrame' object has no attribute 'unique'"
     ]
    }
   ],
   "source": [
    "plant.nunique()"
   ]
  },
  {
   "cell_type": "code",
   "execution_count": 229,
   "id": "85c3f44b-4869-456e-b27b-3e063411e31e",
   "metadata": {},
   "outputs": [
    {
     "data": {
      "text/plain": [
       "(3, 3)"
      ]
     },
     "execution_count": 229,
     "metadata": {},
     "output_type": "execute_result"
    }
   ],
   "source": [
    "plant.shape"
   ]
  },
  {
   "cell_type": "code",
   "execution_count": 230,
   "id": "e69b4f73-4c66-494e-9451-5b690a4cfe55",
   "metadata": {},
   "outputs": [
    {
     "data": {
      "text/html": [
       "<div>\n",
       "<style scoped>\n",
       "    .dataframe tbody tr th:only-of-type {\n",
       "        vertical-align: middle;\n",
       "    }\n",
       "\n",
       "    .dataframe tbody tr th {\n",
       "        vertical-align: top;\n",
       "    }\n",
       "\n",
       "    .dataframe thead th {\n",
       "        text-align: right;\n",
       "    }\n",
       "</style>\n",
       "<table border=\"1\" class=\"dataframe\">\n",
       "  <thead>\n",
       "    <tr style=\"text-align: right;\">\n",
       "      <th></th>\n",
       "      <th>uid</th>\n",
       "      <th>text</th>\n",
       "      <th>region</th>\n",
       "    </tr>\n",
       "  </thead>\n",
       "  <tbody>\n",
       "    <tr>\n",
       "      <th>count</th>\n",
       "      <td>3</td>\n",
       "      <td>3</td>\n",
       "      <td>3</td>\n",
       "    </tr>\n",
       "    <tr>\n",
       "      <th>unique</th>\n",
       "      <td>3</td>\n",
       "      <td>3</td>\n",
       "      <td>2</td>\n",
       "    </tr>\n",
       "    <tr>\n",
       "      <th>top</th>\n",
       "      <td>ABC</td>\n",
       "      <td>Plant A</td>\n",
       "      <td>EU</td>\n",
       "    </tr>\n",
       "    <tr>\n",
       "      <th>freq</th>\n",
       "      <td>1</td>\n",
       "      <td>1</td>\n",
       "      <td>2</td>\n",
       "    </tr>\n",
       "  </tbody>\n",
       "</table>\n",
       "</div>"
      ],
      "text/plain": [
       "        uid     text region\n",
       "count     3        3      3\n",
       "unique    3        3      2\n",
       "top     ABC  Plant A     EU\n",
       "freq      1        1      2"
      ]
     },
     "execution_count": 230,
     "metadata": {},
     "output_type": "execute_result"
    }
   ],
   "source": [
    "plant.describe()"
   ]
  },
  {
   "cell_type": "code",
   "execution_count": 238,
   "id": "f06498ff-f563-40a1-bb69-7e9e9c80d4f8",
   "metadata": {},
   "outputs": [
    {
     "data": {
      "text/plain": [
       "uid       object\n",
       "text      object\n",
       "region    object\n",
       "dtype: object"
      ]
     },
     "execution_count": 238,
     "metadata": {},
     "output_type": "execute_result"
    }
   ],
   "source": [
    "plant.dtypes"
   ]
  },
  {
   "cell_type": "code",
   "execution_count": 242,
   "id": "d685381d-76ef-47f6-8541-cd7f278c6ada",
   "metadata": {},
   "outputs": [
    {
     "data": {
      "text/plain": [
       "uid       0\n",
       "text      0\n",
       "region    0\n",
       "dtype: int64"
      ]
     },
     "execution_count": 242,
     "metadata": {},
     "output_type": "execute_result"
    }
   ],
   "source": [
    "plant.isnull().sum()"
   ]
  },
  {
   "cell_type": "code",
   "execution_count": 231,
   "id": "d81eddd5-dc35-49d2-9f1e-a426ef644ec8",
   "metadata": {},
   "outputs": [
    {
     "data": {
      "text/html": [
       "<div>\n",
       "<style scoped>\n",
       "    .dataframe tbody tr th:only-of-type {\n",
       "        vertical-align: middle;\n",
       "    }\n",
       "\n",
       "    .dataframe tbody tr th {\n",
       "        vertical-align: top;\n",
       "    }\n",
       "\n",
       "    .dataframe thead th {\n",
       "        text-align: right;\n",
       "    }\n",
       "</style>\n",
       "<table border=\"1\" class=\"dataframe\">\n",
       "  <thead>\n",
       "    <tr style=\"text-align: right;\">\n",
       "      <th></th>\n",
       "      <th>uid</th>\n",
       "      <th>text</th>\n",
       "    </tr>\n",
       "  </thead>\n",
       "  <tbody>\n",
       "    <tr>\n",
       "      <th>0</th>\n",
       "      <td>40001</td>\n",
       "      <td>Supplier 1</td>\n",
       "    </tr>\n",
       "    <tr>\n",
       "      <th>1</th>\n",
       "      <td>40002</td>\n",
       "      <td>Supplier 2</td>\n",
       "    </tr>\n",
       "    <tr>\n",
       "      <th>2</th>\n",
       "      <td>40003</td>\n",
       "      <td>Supplier 3</td>\n",
       "    </tr>\n",
       "    <tr>\n",
       "      <th>3</th>\n",
       "      <td>40004</td>\n",
       "      <td>Supplier 4</td>\n",
       "    </tr>\n",
       "    <tr>\n",
       "      <th>4</th>\n",
       "      <td>40005</td>\n",
       "      <td>Supplier 5</td>\n",
       "    </tr>\n",
       "  </tbody>\n",
       "</table>\n",
       "</div>"
      ],
      "text/plain": [
       "     uid        text\n",
       "0  40001  Supplier 1\n",
       "1  40002  Supplier 2\n",
       "2  40003  Supplier 3\n",
       "3  40004  Supplier 4\n",
       "4  40005  Supplier 5"
      ]
     },
     "execution_count": 231,
     "metadata": {},
     "output_type": "execute_result"
    }
   ],
   "source": [
    "supplier.head()"
   ]
  },
  {
   "cell_type": "code",
   "execution_count": 447,
   "id": "e34bf918-581b-4323-9194-3dc5fea887ae",
   "metadata": {},
   "outputs": [
    {
     "data": {
      "text/plain": [
       "array([40001, 40002, 40003, 40004, 40005, 40006, 40007, 40008, 40009,\n",
       "       40010, 40011, 40012, 40013, 40014, 40015, 40016, 40017, 40018,\n",
       "       40019, 40020, 40021, 40022, 40023, 40024, 40025, 40026, 40027,\n",
       "       40028, 40029, 40030, 40031, 40032, 40033, 40034, 40035, 40036,\n",
       "       40037, 40038, 40039, 40040, 40041, 40042, 40043, 40044, 40045,\n",
       "       40046, 40047, 40048, 40049, 40050, 40051, 40052, 40053, 40054,\n",
       "       40055, 40056, 40057, 40058, 40059, 40060, 40061, 40062, 40063,\n",
       "       40064, 40065, 40066, 40067, 40068, 40069])"
      ]
     },
     "execution_count": 447,
     "metadata": {},
     "output_type": "execute_result"
    }
   ],
   "source": [
    "supplier.uid.unique()"
   ]
  },
  {
   "cell_type": "code",
   "execution_count": 232,
   "id": "7d31152b-c343-4c84-bf24-1f44a8a99776",
   "metadata": {},
   "outputs": [
    {
     "data": {
      "text/plain": [
       "uid     69\n",
       "text    69\n",
       "dtype: int64"
      ]
     },
     "execution_count": 232,
     "metadata": {},
     "output_type": "execute_result"
    }
   ],
   "source": [
    "supplier.nunique()"
   ]
  },
  {
   "cell_type": "code",
   "execution_count": 233,
   "id": "1796e7e9-a072-4b1c-b4fa-1a60f2baeac9",
   "metadata": {},
   "outputs": [
    {
     "data": {
      "text/plain": [
       "(69, 2)"
      ]
     },
     "execution_count": 233,
     "metadata": {},
     "output_type": "execute_result"
    }
   ],
   "source": [
    "supplier.shape"
   ]
  },
  {
   "cell_type": "code",
   "execution_count": 234,
   "id": "3edfdaf9-ba2a-493c-b98a-ec1101ba125b",
   "metadata": {},
   "outputs": [
    {
     "data": {
      "text/html": [
       "<div>\n",
       "<style scoped>\n",
       "    .dataframe tbody tr th:only-of-type {\n",
       "        vertical-align: middle;\n",
       "    }\n",
       "\n",
       "    .dataframe tbody tr th {\n",
       "        vertical-align: top;\n",
       "    }\n",
       "\n",
       "    .dataframe thead th {\n",
       "        text-align: right;\n",
       "    }\n",
       "</style>\n",
       "<table border=\"1\" class=\"dataframe\">\n",
       "  <thead>\n",
       "    <tr style=\"text-align: right;\">\n",
       "      <th></th>\n",
       "      <th>uid</th>\n",
       "    </tr>\n",
       "  </thead>\n",
       "  <tbody>\n",
       "    <tr>\n",
       "      <th>count</th>\n",
       "      <td>69.000000</td>\n",
       "    </tr>\n",
       "    <tr>\n",
       "      <th>mean</th>\n",
       "      <td>40035.000000</td>\n",
       "    </tr>\n",
       "    <tr>\n",
       "      <th>std</th>\n",
       "      <td>20.062403</td>\n",
       "    </tr>\n",
       "    <tr>\n",
       "      <th>min</th>\n",
       "      <td>40001.000000</td>\n",
       "    </tr>\n",
       "    <tr>\n",
       "      <th>25%</th>\n",
       "      <td>40018.000000</td>\n",
       "    </tr>\n",
       "    <tr>\n",
       "      <th>50%</th>\n",
       "      <td>40035.000000</td>\n",
       "    </tr>\n",
       "    <tr>\n",
       "      <th>75%</th>\n",
       "      <td>40052.000000</td>\n",
       "    </tr>\n",
       "    <tr>\n",
       "      <th>max</th>\n",
       "      <td>40069.000000</td>\n",
       "    </tr>\n",
       "  </tbody>\n",
       "</table>\n",
       "</div>"
      ],
      "text/plain": [
       "                uid\n",
       "count     69.000000\n",
       "mean   40035.000000\n",
       "std       20.062403\n",
       "min    40001.000000\n",
       "25%    40018.000000\n",
       "50%    40035.000000\n",
       "75%    40052.000000\n",
       "max    40069.000000"
      ]
     },
     "execution_count": 234,
     "metadata": {},
     "output_type": "execute_result"
    }
   ],
   "source": [
    "supplier.describe()"
   ]
  },
  {
   "cell_type": "code",
   "execution_count": 239,
   "id": "b3bc1f61-5515-42d5-8b99-d9a8dfe6a80d",
   "metadata": {},
   "outputs": [
    {
     "data": {
      "text/plain": [
       "uid      int64\n",
       "text    object\n",
       "dtype: object"
      ]
     },
     "execution_count": 239,
     "metadata": {},
     "output_type": "execute_result"
    }
   ],
   "source": [
    "supplier.dtypes"
   ]
  },
  {
   "cell_type": "code",
   "execution_count": 243,
   "id": "fa69d95d-9693-4842-8651-d14d66b426ae",
   "metadata": {},
   "outputs": [
    {
     "data": {
      "text/plain": [
       "uid     0\n",
       "text    0\n",
       "dtype: int64"
      ]
     },
     "execution_count": 243,
     "metadata": {},
     "output_type": "execute_result"
    }
   ],
   "source": [
    "supplier.isnull().sum()"
   ]
  },
  {
   "cell_type": "code",
   "execution_count": 264,
   "id": "ac820595-c757-49c6-ad4e-f7c2453ccae8",
   "metadata": {},
   "outputs": [],
   "source": [
    "supplier.uid=supplier.uid.astype(object)"
   ]
  },
  {
   "cell_type": "code",
   "execution_count": 265,
   "id": "ae9f1023-e733-4d74-a5bd-2e85c1d5ad86",
   "metadata": {},
   "outputs": [
    {
     "data": {
      "text/plain": [
       "uid     object\n",
       "text    object\n",
       "dtype: object"
      ]
     },
     "execution_count": 265,
     "metadata": {},
     "output_type": "execute_result"
    }
   ],
   "source": [
    "supplier.dtypes"
   ]
  },
  {
   "cell_type": "code",
   "execution_count": 36,
   "id": "adae3718-08ad-447b-aee0-ef120cdb06d6",
   "metadata": {},
   "outputs": [],
   "source": [
    "# relationship analysis"
   ]
  },
  {
   "cell_type": "code",
   "execution_count": 270,
   "id": "457bc534-0426-4397-838f-5eae139a2607",
   "metadata": {},
   "outputs": [
    {
     "data": {
      "text/plain": [
       "<seaborn.axisgrid.PairGrid at 0x7f484b085820>"
      ]
     },
     "execution_count": 270,
     "metadata": {},
     "output_type": "execute_result"
    },
    {
     "data": {
      "image/png": "[encoded data removed]",
      "text/plain": [
       "<Figure size 540x540 with 12 Axes>"
      ]
     },
     "metadata": {
      "needs_background": "light"
     },
     "output_type": "display_data"
    }
   ],
   "source": [
    "sns.pairplot(external_purchase)"
   ]
  },
  {
   "cell_type": "code",
   "execution_count": 267,
   "id": "a72a3acf-1e75-487a-bc7c-58d2a349bddb",
   "metadata": {},
   "outputs": [
    {
     "ename": "ValueError",
     "evalue": "zero-size array to reduction operation fmin which has no identity",
     "output_type": "error",
     "traceback": [
      "\u001b[0;31m---------------------------------------------------------------------------\u001b[0m",
      "\u001b[0;31mValueError\u001b[0m                                Traceback (most recent call last)",
      "\u001b[0;32m/tmp/ipykernel_11856/896219414.py\u001b[0m in \u001b[0;36m<module>\u001b[0;34m\u001b[0m\n\u001b[0;32m----> 1\u001b[0;31m \u001b[0msns\u001b[0m\u001b[0;34m.\u001b[0m\u001b[0mheatmap\u001b[0m\u001b[0;34m(\u001b[0m\u001b[0mcorelation\u001b[0m\u001b[0;34m,\u001b[0m\u001b[0mxticklabels\u001b[0m\u001b[0;34m=\u001b[0m\u001b[0mcorelation\u001b[0m\u001b[0;34m.\u001b[0m\u001b[0mcolumns\u001b[0m\u001b[0;34m,\u001b[0m\u001b[0myticklabels\u001b[0m\u001b[0;34m=\u001b[0m\u001b[0mcorelation\u001b[0m\u001b[0;34m.\u001b[0m\u001b[0mcolumns\u001b[0m\u001b[0;34m,\u001b[0m\u001b[0mannot\u001b[0m\u001b[0;34m=\u001b[0m\u001b[0;32mTrue\u001b[0m\u001b[0;34m)\u001b[0m\u001b[0;34m\u001b[0m\u001b[0;34m\u001b[0m\u001b[0m\n\u001b[0m",
      "\u001b[0;32m~/.local/lib/python3.8/site-packages/seaborn/_decorators.py\u001b[0m in \u001b[0;36minner_f\u001b[0;34m(*args, **kwargs)\u001b[0m\n\u001b[1;32m     44\u001b[0m             )\n\u001b[1;32m     45\u001b[0m         \u001b[0mkwargs\u001b[0m\u001b[0;34m.\u001b[0m\u001b[0mupdate\u001b[0m\u001b[0;34m(\u001b[0m\u001b[0;34m{\u001b[0m\u001b[0mk\u001b[0m\u001b[0;34m:\u001b[0m \u001b[0marg\u001b[0m \u001b[0;32mfor\u001b[0m \u001b[0mk\u001b[0m\u001b[0;34m,\u001b[0m \u001b[0marg\u001b[0m \u001b[0;32min\u001b[0m \u001b[0mzip\u001b[0m\u001b[0;34m(\u001b[0m\u001b[0msig\u001b[0m\u001b[0;34m.\u001b[0m\u001b[0mparameters\u001b[0m\u001b[0;34m,\u001b[0m \u001b[0margs\u001b[0m\u001b[0;34m)\u001b[0m\u001b[0;34m}\u001b[0m\u001b[0;34m)\u001b[0m\u001b[0;34m\u001b[0m\u001b[0;34m\u001b[0m\u001b[0m\n\u001b[0;32m---> 46\u001b[0;31m         \u001b[0;32mreturn\u001b[0m \u001b[0mf\u001b[0m\u001b[0;34m(\u001b[0m\u001b[0;34m**\u001b[0m\u001b[0mkwargs\u001b[0m\u001b[0;34m)\u001b[0m\u001b[0;34m\u001b[0m\u001b[0;34m\u001b[0m\u001b[0m\n\u001b[0m\u001b[1;32m     47\u001b[0m     \u001b[0;32mreturn\u001b[0m \u001b[0minner_f\u001b[0m\u001b[0;34m\u001b[0m\u001b[0;34m\u001b[0m\u001b[0m\n\u001b[1;32m     48\u001b[0m \u001b[0;34m\u001b[0m\u001b[0m\n",
      "\u001b[0;32m~/.local/lib/python3.8/site-packages/seaborn/matrix.py\u001b[0m in \u001b[0;36mheatmap\u001b[0;34m(data, vmin, vmax, cmap, center, robust, annot, fmt, annot_kws, linewidths, linecolor, cbar, cbar_kws, cbar_ax, square, xticklabels, yticklabels, mask, ax, **kwargs)\u001b[0m\n\u001b[1;32m    538\u001b[0m     \"\"\"\n\u001b[1;32m    539\u001b[0m     \u001b[0;31m# Initialize the plotter object\u001b[0m\u001b[0;34m\u001b[0m\u001b[0;34m\u001b[0m\u001b[0;34m\u001b[0m\u001b[0m\n\u001b[0;32m--> 540\u001b[0;31m     plotter = _HeatMapper(data, vmin, vmax, cmap, center, robust, annot, fmt,\n\u001b[0m\u001b[1;32m    541\u001b[0m                           \u001b[0mannot_kws\u001b[0m\u001b[0;34m,\u001b[0m \u001b[0mcbar\u001b[0m\u001b[0;34m,\u001b[0m \u001b[0mcbar_kws\u001b[0m\u001b[0;34m,\u001b[0m \u001b[0mxticklabels\u001b[0m\u001b[0;34m,\u001b[0m\u001b[0;34m\u001b[0m\u001b[0;34m\u001b[0m\u001b[0m\n\u001b[1;32m    542\u001b[0m                           yticklabels, mask)\n",
      "\u001b[0;32m~/.local/lib/python3.8/site-packages/seaborn/matrix.py\u001b[0m in \u001b[0;36m__init__\u001b[0;34m(self, data, vmin, vmax, cmap, center, robust, annot, fmt, annot_kws, cbar, cbar_kws, xticklabels, yticklabels, mask)\u001b[0m\n\u001b[1;32m    157\u001b[0m \u001b[0;34m\u001b[0m\u001b[0m\n\u001b[1;32m    158\u001b[0m         \u001b[0;31m# Determine good default values for the colormapping\u001b[0m\u001b[0;34m\u001b[0m\u001b[0;34m\u001b[0m\u001b[0;34m\u001b[0m\u001b[0m\n\u001b[0;32m--> 159\u001b[0;31m         self._determine_cmap_params(plot_data, vmin, vmax,\n\u001b[0m\u001b[1;32m    160\u001b[0m                                     cmap, center, robust)\n\u001b[1;32m    161\u001b[0m \u001b[0;34m\u001b[0m\u001b[0m\n",
      "\u001b[0;32m~/.local/lib/python3.8/site-packages/seaborn/matrix.py\u001b[0m in \u001b[0;36m_determine_cmap_params\u001b[0;34m(self, plot_data, vmin, vmax, cmap, center, robust)\u001b[0m\n\u001b[1;32m    196\u001b[0m                 \u001b[0mvmin\u001b[0m \u001b[0;34m=\u001b[0m \u001b[0mnp\u001b[0m\u001b[0;34m.\u001b[0m\u001b[0mnanpercentile\u001b[0m\u001b[0;34m(\u001b[0m\u001b[0mcalc_data\u001b[0m\u001b[0;34m,\u001b[0m \u001b[0;36m2\u001b[0m\u001b[0;34m)\u001b[0m\u001b[0;34m\u001b[0m\u001b[0;34m\u001b[0m\u001b[0m\n\u001b[1;32m    197\u001b[0m             \u001b[0;32melse\u001b[0m\u001b[0;34m:\u001b[0m\u001b[0;34m\u001b[0m\u001b[0;34m\u001b[0m\u001b[0m\n\u001b[0;32m--> 198\u001b[0;31m                 \u001b[0mvmin\u001b[0m \u001b[0;34m=\u001b[0m \u001b[0mnp\u001b[0m\u001b[0;34m.\u001b[0m\u001b[0mnanmin\u001b[0m\u001b[0;34m(\u001b[0m\u001b[0mcalc_data\u001b[0m\u001b[0;34m)\u001b[0m\u001b[0;34m\u001b[0m\u001b[0;34m\u001b[0m\u001b[0m\n\u001b[0m\u001b[1;32m    199\u001b[0m         \u001b[0;32mif\u001b[0m \u001b[0mvmax\u001b[0m \u001b[0;32mis\u001b[0m \u001b[0;32mNone\u001b[0m\u001b[0;34m:\u001b[0m\u001b[0;34m\u001b[0m\u001b[0;34m\u001b[0m\u001b[0m\n\u001b[1;32m    200\u001b[0m             \u001b[0;32mif\u001b[0m \u001b[0mrobust\u001b[0m\u001b[0;34m:\u001b[0m\u001b[0;34m\u001b[0m\u001b[0;34m\u001b[0m\u001b[0m\n",
      "\u001b[0;32m<__array_function__ internals>\u001b[0m in \u001b[0;36mnanmin\u001b[0;34m(*args, **kwargs)\u001b[0m\n",
      "\u001b[0;32m/usr/local/lib/python3.8/dist-packages/numpy/lib/nanfunctions.py\u001b[0m in \u001b[0;36mnanmin\u001b[0;34m(a, axis, out, keepdims)\u001b[0m\n\u001b[1;32m    317\u001b[0m         \u001b[0;31m# Fast, but not safe for subclasses of ndarray, or object arrays,\u001b[0m\u001b[0;34m\u001b[0m\u001b[0;34m\u001b[0m\u001b[0;34m\u001b[0m\u001b[0m\n\u001b[1;32m    318\u001b[0m         \u001b[0;31m# which do not implement isnan (gh-9009), or fmin correctly (gh-8975)\u001b[0m\u001b[0;34m\u001b[0m\u001b[0;34m\u001b[0m\u001b[0;34m\u001b[0m\u001b[0m\n\u001b[0;32m--> 319\u001b[0;31m         \u001b[0mres\u001b[0m \u001b[0;34m=\u001b[0m \u001b[0mnp\u001b[0m\u001b[0;34m.\u001b[0m\u001b[0mfmin\u001b[0m\u001b[0;34m.\u001b[0m\u001b[0mreduce\u001b[0m\u001b[0;34m(\u001b[0m\u001b[0ma\u001b[0m\u001b[0;34m,\u001b[0m \u001b[0maxis\u001b[0m\u001b[0;34m=\u001b[0m\u001b[0maxis\u001b[0m\u001b[0;34m,\u001b[0m \u001b[0mout\u001b[0m\u001b[0;34m=\u001b[0m\u001b[0mout\u001b[0m\u001b[0;34m,\u001b[0m \u001b[0;34m**\u001b[0m\u001b[0mkwargs\u001b[0m\u001b[0;34m)\u001b[0m\u001b[0;34m\u001b[0m\u001b[0;34m\u001b[0m\u001b[0m\n\u001b[0m\u001b[1;32m    320\u001b[0m         \u001b[0;32mif\u001b[0m \u001b[0mnp\u001b[0m\u001b[0;34m.\u001b[0m\u001b[0misnan\u001b[0m\u001b[0;34m(\u001b[0m\u001b[0mres\u001b[0m\u001b[0;34m)\u001b[0m\u001b[0;34m.\u001b[0m\u001b[0many\u001b[0m\u001b[0;34m(\u001b[0m\u001b[0;34m)\u001b[0m\u001b[0;34m:\u001b[0m\u001b[0;34m\u001b[0m\u001b[0;34m\u001b[0m\u001b[0m\n\u001b[1;32m    321\u001b[0m             warnings.warn(\"All-NaN slice encountered\", RuntimeWarning,\n",
      "\u001b[0;31mValueError\u001b[0m: zero-size array to reduction operation fmin which has no identity"
     ]
    }
   ],
   "source": [
    "sns.heatmap(corelation,xticklabels=corelation.columns,yticklabels=corelation.columns,annot=True)"
   ]
  },
  {
   "cell_type": "code",
   "execution_count": null,
   "id": "4e6d6006-67cf-46f8-983d-dc946dffc823",
   "metadata": {},
   "outputs": [],
   "source": []
  },
  {
   "cell_type": "code",
   "execution_count": 388,
   "id": "53299518-baa6-4265-b5bf-e849c07d06e5",
   "metadata": {},
   "outputs": [
    {
     "data": {
      "text/html": [
       "<div>\n",
       "<style scoped>\n",
       "    .dataframe tbody tr th:only-of-type {\n",
       "        vertical-align: middle;\n",
       "    }\n",
       "\n",
       "    .dataframe tbody tr th {\n",
       "        vertical-align: top;\n",
       "    }\n",
       "\n",
       "    .dataframe thead th {\n",
       "        text-align: right;\n",
       "    }\n",
       "</style>\n",
       "<table border=\"1\" class=\"dataframe\">\n",
       "  <thead>\n",
       "    <tr style=\"text-align: right;\">\n",
       "      <th></th>\n",
       "      <th>materialId</th>\n",
       "      <th>plantId</th>\n",
       "      <th>supplierId</th>\n",
       "      <th>unitOfMeasure</th>\n",
       "      <th>quantityInUnitOfMeasure</th>\n",
       "    </tr>\n",
       "  </thead>\n",
       "  <tbody>\n",
       "    <tr>\n",
       "      <th>0</th>\n",
       "      <td>10001</td>\n",
       "      <td>ABC</td>\n",
       "      <td>40001.0</td>\n",
       "      <td>KG</td>\n",
       "      <td>11125</td>\n",
       "    </tr>\n",
       "    <tr>\n",
       "      <th>1</th>\n",
       "      <td>10001</td>\n",
       "      <td>ABC</td>\n",
       "      <td>40001.0</td>\n",
       "      <td>KG</td>\n",
       "      <td>18808</td>\n",
       "    </tr>\n",
       "    <tr>\n",
       "      <th>12</th>\n",
       "      <td>10001</td>\n",
       "      <td>ABC</td>\n",
       "      <td>40001.0</td>\n",
       "      <td>KG</td>\n",
       "      <td>11834</td>\n",
       "    </tr>\n",
       "    <tr>\n",
       "      <th>13</th>\n",
       "      <td>10001</td>\n",
       "      <td>ABC</td>\n",
       "      <td>40001.0</td>\n",
       "      <td>KG</td>\n",
       "      <td>16129</td>\n",
       "    </tr>\n",
       "    <tr>\n",
       "      <th>14</th>\n",
       "      <td>10001</td>\n",
       "      <td>ABC</td>\n",
       "      <td>NaN</td>\n",
       "      <td>KG</td>\n",
       "      <td>20014</td>\n",
       "    </tr>\n",
       "    <tr>\n",
       "      <th>...</th>\n",
       "      <td>...</td>\n",
       "      <td>...</td>\n",
       "      <td>...</td>\n",
       "      <td>...</td>\n",
       "      <td>...</td>\n",
       "    </tr>\n",
       "    <tr>\n",
       "      <th>3711</th>\n",
       "      <td>10001</td>\n",
       "      <td>ABC</td>\n",
       "      <td>40001.0</td>\n",
       "      <td>KG</td>\n",
       "      <td>646</td>\n",
       "    </tr>\n",
       "    <tr>\n",
       "      <th>3712</th>\n",
       "      <td>10001</td>\n",
       "      <td>ABC</td>\n",
       "      <td>40001.0</td>\n",
       "      <td>KG</td>\n",
       "      <td>19871</td>\n",
       "    </tr>\n",
       "    <tr>\n",
       "      <th>3713</th>\n",
       "      <td>10001</td>\n",
       "      <td>ABC</td>\n",
       "      <td>40001.0</td>\n",
       "      <td>KG</td>\n",
       "      <td>19422</td>\n",
       "    </tr>\n",
       "    <tr>\n",
       "      <th>3714</th>\n",
       "      <td>10001</td>\n",
       "      <td>ABC</td>\n",
       "      <td>40001.0</td>\n",
       "      <td>KG</td>\n",
       "      <td>17454</td>\n",
       "    </tr>\n",
       "    <tr>\n",
       "      <th>3715</th>\n",
       "      <td>10001</td>\n",
       "      <td>ABC</td>\n",
       "      <td>40001.0</td>\n",
       "      <td>KG</td>\n",
       "      <td>31442</td>\n",
       "    </tr>\n",
       "  </tbody>\n",
       "</table>\n",
       "<p>1281 rows × 5 columns</p>\n",
       "</div>"
      ],
      "text/plain": [
       "      materialId plantId  supplierId unitOfMeasure quantityInUnitOfMeasure\n",
       "0          10001     ABC     40001.0            KG                   11125\n",
       "1          10001     ABC     40001.0            KG                   18808\n",
       "12         10001     ABC     40001.0            KG                   11834\n",
       "13         10001     ABC     40001.0            KG                   16129\n",
       "14         10001     ABC         NaN            KG                   20014\n",
       "...          ...     ...         ...           ...                     ...\n",
       "3711       10001     ABC     40001.0            KG                     646\n",
       "3712       10001     ABC     40001.0            KG                   19871\n",
       "3713       10001     ABC     40001.0            KG                   19422\n",
       "3714       10001     ABC     40001.0            KG                   17454\n",
       "3715       10001     ABC     40001.0            KG                   31442\n",
       "\n",
       "[1281 rows x 5 columns]"
      ]
     },
     "execution_count": 388,
     "metadata": {},
     "output_type": "execute_result"
    }
   ],
   "source": []
  }
 ],
 "metadata": {
  "kernelspec": {
   "display_name": "Python 3 (ipykernel)",
   "language": "python",
   "name": "python3"
  },
  "language_info": {
   "codemirror_mode": {
    "name": "ipython",
    "version": 3
   },
   "file_extension": ".py",
   "mimetype": "text/x-python",
   "name": "python",
   "nbconvert_exporter": "python",
   "pygments_lexer": "ipython3",
   "version": "3.8.10"
  }
 },
 "nbformat": 4,
 "nbformat_minor": 5
}
